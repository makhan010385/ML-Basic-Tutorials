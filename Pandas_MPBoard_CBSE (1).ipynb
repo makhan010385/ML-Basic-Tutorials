{
  "nbformat": 4,
  "nbformat_minor": 0,
  "metadata": {
    "colab": {
      "provenance": []
    },
    "kernelspec": {
      "name": "python3",
      "display_name": "Python 3"
    },
    "language_info": {
      "name": "python"
    }
  },
  "cells": [
    {
      "cell_type": "code",
      "execution_count": null,
      "metadata": {
        "id": "TIn_8xD0ujYT"
      },
      "outputs": [],
      "source": []
    },
    {
      "cell_type": "markdown",
      "source": [
        "#Unit 1: Data Handling using Pandas - I\n",
        "##Introduction to Python Libraries Series\n",
        "##Importing and Exporting Data between CSV\n",
        "##Files and DataFrames\n",
        "##Pandas Series Vs NumPy ndarray\n",
        "#Data Handling using Pandas - II\n",
        "##Descriptive Statistics\n",
        "##Data Aggregations\n",
        "##Sorting a DataFrame\n",
        "##Group by Functions\n",
        "##Altering the Index\n",
        "##Other DataFrame Operations\n",
        "##Handling Missing Values\n",
        "##Import and Export of Data between Pandas and MySQL\n",
        "##Importing Data from MySQL to Pandas\n",
        "##Exporting Data from Pandas to MySQL\n",
        "##Plotting Data using Matplotlib\n",
        "##Plotting using Matplotlib\n",
        "##Customisation of Plots\n",
        "##Marker\n",
        "##colour\n",
        "##Linewidth and Line Style\n",
        "#The Pandas Plot Function (Pandas Visualisation)\n",
        "##Plotting a Line chart\n",
        "##Plotting Bar Chart\n",
        "##Plotting Histogram\n",
        "##Plotting Scatter Chart\n",
        "##Plotting Quartiles and Box plot\n",
        "##Plotting Pie Chart\n",
        "#Unit 2: Database Query using SQL\n",
        "##Functions in SQL\n",
        "##GROUP BY in SQL\n",
        "##Operations on Relations\n",
        "##Using Two Relations in a Query\n",
        "##Join in two tables\n",
        "##Cartesian product on two tables"
      ],
      "metadata": {
        "id": "1ztD0W9DG3nk"
      }
    },
    {
      "cell_type": "markdown",
      "source": [
        "#What is Pandas?\n",
        "##Pandas is a Python library used for working with data sets.\n",
        "\n",
        "##It has functions for analyzing, cleaning, exploring, and manipulating data.\n",
        "\n",
        "##The name \"Pandas\" has a reference to both \"Panel Data\", and \"Python Data Analysis\" and was created by Wes McKinney in 2008."
      ],
      "metadata": {
        "id": "p5HGPcKzupXQ"
      }
    },
    {
      "cell_type": "markdown",
      "source": [
        "#Why Use Pandas?\n",
        "##Pandas allows us to analyze big data and make conclusions based on statistical theories.\n",
        "\n",
        "##Pandas can clean messy data sets, and make them readable and relevant.\n",
        "\n",
        "##Relevant data is very important in data science."
      ],
      "metadata": {
        "id": "ks1_4vcluy0V"
      }
    },
    {
      "cell_type": "markdown",
      "source": [
        "#What Can Pandas Do?\n",
        "##Pandas gives you answers about the data. Like:\n",
        "\n",
        "##Is there a correlation between two or more columns?\n",
        "##What is average value?\n",
        "##Max value?\n",
        "##Min value?"
      ],
      "metadata": {
        "id": "wXfPs1FrvDTr"
      }
    },
    {
      "cell_type": "markdown",
      "source": [],
      "metadata": {
        "id": "3dlG0dJnvRPU"
      }
    },
    {
      "cell_type": "code",
      "source": [
        "import pandas\n",
        "\n",
        "mydataset = {\n",
        "  'cars': [\"BMW\", \"Volvo\", \"Ford\", \"Cadillac\", \"Mitsibushi\", \"Mahindra\"],\n",
        "  'passings': [3, 7, 2, 7, 5, 2]\n",
        "}\n",
        "\n",
        "myvar = pandas.DataFrame(mydataset)\n",
        "print(myvar)\n",
        "\n"
      ],
      "metadata": {
        "colab": {
          "base_uri": "https://localhost:8080/"
        },
        "id": "4iIAER6pvSMM",
        "outputId": "d7922df9-6367-4d7f-ce0f-317775019995"
      },
      "execution_count": null,
      "outputs": [
        {
          "output_type": "stream",
          "name": "stdout",
          "text": [
            "         cars  passings\n",
            "0         BMW         3\n",
            "1       Volvo         7\n",
            "2        Ford         2\n",
            "3    Cadillac         7\n",
            "4  Mitsibushi         5\n",
            "5    Mahindra         2\n"
          ]
        }
      ]
    },
    {
      "cell_type": "markdown",
      "source": [
        "#1. List in Python\n",
        "\n",
        "##A list is an ordered, mutable collection (you can change elements).\n",
        "\n",
        "##Created using square brackets"
      ],
      "metadata": {
        "id": "hQMgHtbMwNQ2"
      }
    },
    {
      "cell_type": "code",
      "source": [
        "# Creating a list\n",
        "fruits = [\"apple\", \"banana\", \"cherry\", \"C\",\"y\",\"Pineapple\",\"Gwava\",\"Watermelon\"\n",
        "]\n",
        "\n",
        "# Access elements by index\n",
        "print(fruits[0])   # Output: apple\n",
        "print(fruits[1])\n",
        "print(fruits[2])\n",
        "\n",
        "\n",
        "# Modify element\n",
        "fruits[1] = \"mango\"\n",
        "print(fruits)  # Output: ['apple', 'mango', 'cherry']\n",
        "\n",
        "# Add new element\n",
        "fruits.append(\"orange\")\n",
        "print(fruits)  # Output: ['apple', 'mango', 'cherry', 'orange']\n",
        "\n",
        "# Remove element\n",
        "fruits.remove(\"Watermelon\")\n",
        "print(fruits)  # Output: ['mango', 'cherry', 'orange']\n",
        "\n",
        "# Loop through list\n",
        "for item in fruits:\n",
        "    print(item)\n"
      ],
      "metadata": {
        "colab": {
          "base_uri": "https://localhost:8080/"
        },
        "id": "g1BN8ZYDwU3P",
        "outputId": "c82c9825-bd98-4089-a79b-fdd43f7184af"
      },
      "execution_count": null,
      "outputs": [
        {
          "output_type": "stream",
          "name": "stdout",
          "text": [
            "apple\n",
            "banana\n",
            "cherry\n",
            "['apple', 'mango', 'cherry', 'C', 'y', 'Pineapple', 'Gwava', 'Watermelon']\n",
            "['apple', 'mango', 'cherry', 'C', 'y', 'Pineapple', 'Gwava', 'Watermelon', 'orange']\n",
            "['apple', 'mango', 'cherry', 'C', 'y', 'Pineapple', 'Gwava', 'orange']\n",
            "apple\n",
            "mango\n",
            "cherry\n",
            "C\n",
            "y\n",
            "Pineapple\n",
            "Gwava\n",
            "orange\n"
          ]
        }
      ]
    },
    {
      "cell_type": "code",
      "source": [
        "# Creating a list\n",
        "fruits = [\"apple\", \"banana\", \"cherry\", \"C\",\"y\",\"Pineapple\",\"Gwava\",\"Watermelon\"\n",
        "]\n",
        "# Access elements by index\n",
        "print(fruits[5])"
      ],
      "metadata": {
        "colab": {
          "base_uri": "https://localhost:8080/"
        },
        "id": "38Y-wbEAY_MM",
        "outputId": "c6e0f010-abb6-4fa4-dda8-d27ffc6b5b47"
      },
      "execution_count": null,
      "outputs": [
        {
          "output_type": "stream",
          "name": "stdout",
          "text": [
            "Pineapple\n"
          ]
        }
      ]
    },
    {
      "cell_type": "markdown",
      "source": [
        "#2. Tuples in Python\n",
        "\n",
        "##A tuple is an ordered, immutable collection (cannot change once created).\n",
        "\n",
        "##Created using parentheses ()."
      ],
      "metadata": {
        "id": "4tiI9W2gvnTR"
      }
    },
    {
      "cell_type": "code",
      "source": [
        "# Creating a tuple\n",
        "fruits = (\"apple\", \"banana\", \"cherry\")\n",
        "\n",
        "# Access elements by index\n",
        "print(fruits[0])   # Output: apple\n",
        "print(fruits[1])   # Output: banana\n",
        "\n",
        "# Modify element\n",
        "fruits(1) = \"mango\"\n",
        "print(fruits)\n",
        "\n",
        "# Tuple can hold different data types\n",
        "mixed = (1, \"hello\", 3.5, True)\n",
        "print(mixed)\n",
        "\n",
        "# Length of tuple\n",
        "print(len(fruits))  # Output: 3\n"
      ],
      "metadata": {
        "colab": {
          "base_uri": "https://localhost:8080/"
        },
        "id": "2xix9AeHvmK4",
        "outputId": "522ef283-9e0b-4569-eea8-b65a5308f54f"
      },
      "execution_count": null,
      "outputs": [
        {
          "output_type": "stream",
          "name": "stdout",
          "text": [
            "apple\n",
            "banana\n",
            "(1, 'hello', 3.5, True)\n",
            "3\n"
          ]
        }
      ]
    },
    {
      "cell_type": "code",
      "source": [
        "# Creating a tuple\n",
        "fruits1 =\"apple1\"\n",
        "fruits = (\"apple\", \"banana\", \"cherry\")\n",
        "print(fruits1)\n",
        "print(fruits)"
      ],
      "metadata": {
        "colab": {
          "base_uri": "https://localhost:8080/"
        },
        "id": "rrtYiQ5CZnju",
        "outputId": "48e68e79-0346-4890-fe07-9b3621580167"
      },
      "execution_count": null,
      "outputs": [
        {
          "output_type": "stream",
          "name": "stdout",
          "text": [
            "apple1\n",
            "('apple', 'banana', 'cherry')\n"
          ]
        }
      ]
    },
    {
      "cell_type": "code",
      "source": [
        "# Creating a tuple\n",
        "fruits = (\"apple\", \"banana\", \"cherry\")\n",
        "\n",
        "# Access elements by index\n",
        "print(fruits[2])"
      ],
      "metadata": {
        "colab": {
          "base_uri": "https://localhost:8080/"
        },
        "id": "yix1UvPtZZiX",
        "outputId": "1ab4a5f0-61e6-442c-e2ac-a2fba698e78f"
      },
      "execution_count": null,
      "outputs": [
        {
          "output_type": "stream",
          "name": "stdout",
          "text": [
            "cherry\n"
          ]
        }
      ]
    },
    {
      "cell_type": "markdown",
      "source": [
        "#3. Dictionary in Python\n",
        "\n",
        "##A dictionary stores data in key-value pairs.\n",
        "\n",
        "##Created using curly braces {}.\n",
        "\n",
        "##Keys are unique and used to access values."
      ],
      "metadata": {
        "id": "fG7ZmBGUv2wR"
      }
    },
    {
      "cell_type": "code",
      "source": [
        "# Creating a dictionary\n",
        "student = {\n",
        "    \"name\": \"John\",\n",
        "    \"age\": 21,\n",
        "    \"course\": \"Computer Science\"\n",
        "}\n",
        "print(student[\"age\"])\n",
        "# # Access values by key\n",
        "# print(student[\"name\"])   # Output: John\n",
        "# print(student[\"age\"])    # Output: 21\n",
        "# # Add new key-value pair\n",
        "# student[\"grade\"] = \"A\"\n",
        "# print(student)\n",
        "\n",
        "# # Update value\n",
        "# student[\"age\"] = 22\n",
        "# print(student)\n",
        "\n",
        "# # Loop through dictionary\n",
        "# for key, value in student.items():\n",
        "#      print(key, \":\", value)\n",
        "\n",
        "\n"
      ],
      "metadata": {
        "colab": {
          "base_uri": "https://localhost:8080/"
        },
        "id": "V4nHIJAsv9Ad",
        "outputId": "542c2a88-bd78-4e49-d11c-5843cae792ea"
      },
      "execution_count": null,
      "outputs": [
        {
          "output_type": "stream",
          "name": "stdout",
          "text": [
            "21\n"
          ]
        }
      ]
    },
    {
      "cell_type": "markdown",
      "source": [
        "#What is a Series?\n",
        "##A Pandas Series is like a column in a table.\n",
        "\n",
        "##It is a one-dimensional array holding data of any type."
      ],
      "metadata": {
        "id": "Hiy6HzrWxEEP"
      }
    },
    {
      "cell_type": "markdown",
      "source": [
        " #Create a simple Pandas Series from a list:"
      ],
      "metadata": {
        "id": "ybKlMrluFgcT"
      }
    },
    {
      "cell_type": "code",
      "source": [
        "import pandas as pd\n",
        "\n",
        "a = [1, 7, 2,4]\n",
        "\n",
        "myvar = pd.Series(a)\n",
        "\n",
        "print(myvar)"
      ],
      "metadata": {
        "colab": {
          "base_uri": "https://localhost:8080/"
        },
        "id": "DvLIXFMZFku8",
        "outputId": "6a063e30-837d-4541-90da-19212e9a5c48"
      },
      "execution_count": null,
      "outputs": [
        {
          "output_type": "stream",
          "name": "stdout",
          "text": [
            "0    1\n",
            "1    7\n",
            "2    2\n",
            "3    4\n",
            "dtype: int64\n"
          ]
        }
      ]
    },
    {
      "cell_type": "markdown",
      "source": [
        "#Labels\n",
        "##If nothing else is specified, the values are labeled with their index number. First value has index 0, second value has index 1 etc.\n",
        "\n",
        "##This label can be used to access a specified value."
      ],
      "metadata": {
        "id": "NaGO407lFqya"
      }
    },
    {
      "cell_type": "markdown",
      "source": [
        "#Key/Value Objects as Series"
      ],
      "metadata": {
        "id": "206fT4HgIg19"
      }
    },
    {
      "cell_type": "markdown",
      "source": [
        "##We can also use a key/value object, like a dictionary, when creating a Series.\n",
        "\n",
        "##Example\n",
        "##Create a simple Pandas Series from a dictionary:"
      ],
      "metadata": {
        "id": "yc3AQi48Ikwi"
      }
    },
    {
      "cell_type": "code",
      "source": [
        "import pandas as pd\n",
        "\n",
        "calories = {\"day1\": 420, \"day2\": 380, \"day3\": 390}\n",
        "\n",
        "myvar = pd.Series(calories)\n",
        "\n",
        "print(myvar)"
      ],
      "metadata": {
        "colab": {
          "base_uri": "https://localhost:8080/"
        },
        "id": "87Z8i3CTIp1d",
        "outputId": "77a4c079-0da1-4527-eb47-058dad4394d7"
      },
      "execution_count": null,
      "outputs": [
        {
          "output_type": "stream",
          "name": "stdout",
          "text": [
            "day1    420\n",
            "day2    380\n",
            "day3    390\n",
            "dtype: int64\n"
          ]
        }
      ]
    },
    {
      "cell_type": "markdown",
      "source": [
        "#DataFrames\n",
        "##Data sets in Pandas are usually multi-dimensional tables, called DataFrames.\n",
        "\n",
        "##Series is like a column, a DataFrame is the whole table."
      ],
      "metadata": {
        "id": "GdR5JfKGItlk"
      }
    },
    {
      "cell_type": "markdown",
      "source": [
        "#Example\n",
        "##Create a DataFrame from two Series:"
      ],
      "metadata": {
        "id": "vHX7_m5vIxpc"
      }
    },
    {
      "cell_type": "code",
      "source": [
        "import pandas as pd\n",
        "\n",
        "data = {\n",
        "  \"calories\": [420, 380, 390],\n",
        "  \"duration\": [50, 40, 45]\n",
        "}\n",
        "\n",
        "myvar = pd.DataFrame(data)\n",
        "\n",
        "print(myvar)"
      ],
      "metadata": {
        "colab": {
          "base_uri": "https://localhost:8080/"
        },
        "id": "DrfvAM5NI1Fr",
        "outputId": "43734ec7-bfdf-4dd4-c2d1-838c634d18ff"
      },
      "execution_count": null,
      "outputs": [
        {
          "output_type": "stream",
          "name": "stdout",
          "text": [
            "   calories  duration\n",
            "0       420        50\n",
            "1       380        40\n",
            "2       390        45\n"
          ]
        }
      ]
    },
    {
      "cell_type": "code",
      "source": [
        "import pandas as pd\n",
        "\n",
        "data = {\"name\":[\"praveer\", \"samyak\", \"kavya\"], \"age\":[32, 24, 41]}\n",
        "myvar = pd.DataFrame(data)\n",
        "print(myvar)"
      ],
      "metadata": {
        "id": "6tdDmEmmc2aU",
        "colab": {
          "base_uri": "https://localhost:8080/"
        },
        "outputId": "28ab0af4-30a3-4520-be7c-614a07ce5827"
      },
      "execution_count": null,
      "outputs": [
        {
          "output_type": "stream",
          "name": "stdout",
          "text": [
            "      name  age\n",
            "0  praveer   32\n",
            "1   samyak   24\n",
            "2    kavya   41\n"
          ]
        }
      ]
    },
    {
      "cell_type": "code",
      "source": [],
      "metadata": {
        "id": "ysTnvA0ngGWw"
      },
      "execution_count": null,
      "outputs": []
    },
    {
      "cell_type": "markdown",
      "source": [
        "##Pandas Read CSV"
      ],
      "metadata": {
        "id": "q9qKwfC0I7mD"
      }
    },
    {
      "cell_type": "markdown",
      "source": [
        "#Read CSV Files\n",
        "##A simple way to store big data sets is to use CSV files (comma separated files).\n",
        "\n",
        "##CSV files contains plain text and is a well know format that can be read by everyone including Pandas.\n",
        "\n",
        "##In our examples we will be using a CSV file called 'data.csv"
      ],
      "metadata": {
        "id": "ugszsZAlJANa"
      }
    },
    {
      "cell_type": "code",
      "source": [
        "import pandas as pd\n",
        "\n",
        "df = pd.read_csv('data.csv')\n",
        "\n",
        "print(df)"
      ],
      "metadata": {
        "colab": {
          "base_uri": "https://localhost:8080/"
        },
        "id": "MTaFikC5JOMT",
        "outputId": "6ba5db6e-78ab-43d8-f8f2-214d8054f5cb"
      },
      "execution_count": null,
      "outputs": [
        {
          "output_type": "stream",
          "name": "stdout",
          "text": [
            "     Duration  Pulse  Maxpulse  Calories\n",
            "0          60    110       130     409.1\n",
            "1          60    117       145     479.0\n",
            "2          60    103       135     340.0\n",
            "3          45    109       175     282.4\n",
            "4          45    117       148     406.0\n",
            "..        ...    ...       ...       ...\n",
            "164        60    105       140     290.8\n",
            "165        60    110       145     300.0\n",
            "166        60    115       145     310.2\n",
            "167        75    120       150     320.4\n",
            "168        75    125       150     330.4\n",
            "\n",
            "[169 rows x 4 columns]\n"
          ]
        }
      ]
    },
    {
      "cell_type": "code",
      "source": [
        "import pandas as pd\n",
        "df = pd.read_csv('data.csv')\n",
        "print(df)\n"
      ],
      "metadata": {
        "colab": {
          "base_uri": "https://localhost:8080/"
        },
        "id": "l1OzUXvRgKM0",
        "outputId": "3a3f278e-9f3c-412d-f912-3e0fd25bc5fc"
      },
      "execution_count": null,
      "outputs": [
        {
          "output_type": "stream",
          "name": "stdout",
          "text": [
            "     Duration  Pulse  Maxpulse  Calories\n",
            "0          60    110       130     409.1\n",
            "1          60    117       145     479.0\n",
            "2          60    103       135     340.0\n",
            "3          45    109       175     282.4\n",
            "4          45    117       148     406.0\n",
            "..        ...    ...       ...       ...\n",
            "164        60    105       140     290.8\n",
            "165        60    110       145     300.0\n",
            "166        60    115       145     310.2\n",
            "167        75    120       150     320.4\n",
            "168        75    125       150     330.4\n",
            "\n",
            "[169 rows x 4 columns]\n"
          ]
        }
      ]
    },
    {
      "cell_type": "code",
      "source": [
        "import pandas as pd\n",
        "\n",
        "df = pd.read_csv('data.csv')\n",
        "\n",
        "print(df)"
      ],
      "metadata": {
        "colab": {
          "base_uri": "https://localhost:8080/"
        },
        "id": "9rNO5jsbJVIr",
        "outputId": "597d90fb-9c00-4b2d-8b69-dcd1a51e7818"
      },
      "execution_count": null,
      "outputs": [
        {
          "output_type": "stream",
          "name": "stdout",
          "text": [
            "     Duration  Pulse  Maxpulse  Calories\n",
            "0          60    110       130     409.1\n",
            "1          60    117       145     479.0\n",
            "2          60    103       135     340.0\n",
            "3          45    109       175     282.4\n",
            "4          45    117       148     406.0\n",
            "..        ...    ...       ...       ...\n",
            "164        60    105       140     290.8\n",
            "165        60    110       145     300.0\n",
            "166        60    115       145     310.2\n",
            "167        75    120       150     320.4\n",
            "168        75    125       150     330.4\n",
            "\n",
            "[169 rows x 4 columns]\n"
          ]
        }
      ]
    },
    {
      "cell_type": "markdown",
      "source": [
        "#Creating a series from Scalar value"
      ],
      "metadata": {
        "id": "-7n18uNMVLYx"
      }
    },
    {
      "cell_type": "code",
      "source": [
        "import pandas as pd\n",
        "\n",
        "# Create a Series from a scalar with an index\n",
        "s = pd.Series(5, index=['a', 'b', 'c', 'd'])\n",
        "\n",
        "print(s)"
      ],
      "metadata": {
        "colab": {
          "base_uri": "https://localhost:8080/"
        },
        "id": "1ZLEku7qVeeS",
        "outputId": "ed99cbfe-6164-4d89-df14-8d9e70c0afbf"
      },
      "execution_count": 1,
      "outputs": [
        {
          "output_type": "stream",
          "name": "stdout",
          "text": [
            "a    5\n",
            "b    5\n",
            "c    5\n",
            "d    5\n",
            "dtype: int64\n"
          ]
        }
      ]
    },
    {
      "cell_type": "markdown",
      "source": [
        "#Creating a series from a Dictionary"
      ],
      "metadata": {
        "id": "ZD6NvVv1Vtdi"
      }
    },
    {
      "cell_type": "code",
      "source": [
        "import pandas as pd\n",
        "\n",
        "# Dictionary\n",
        "data = {'a': 10, 'b': 20, 'c': 30}\n",
        "\n",
        "# Create Series\n",
        "s = pd.Series(data)\n",
        "\n",
        "print(s)"
      ],
      "metadata": {
        "colab": {
          "base_uri": "https://localhost:8080/"
        },
        "id": "AmfiWvEJVpLW",
        "outputId": "fd2b9bed-9fcf-4eea-9efc-c430b83f3860"
      },
      "execution_count": 2,
      "outputs": [
        {
          "output_type": "stream",
          "name": "stdout",
          "text": [
            "a    10\n",
            "b    20\n",
            "c    30\n",
            "dtype: int64\n"
          ]
        }
      ]
    },
    {
      "cell_type": "markdown",
      "source": [
        "#Mathematical operations on a Pandas Series"
      ],
      "metadata": {
        "id": "KB_t1x4CV8Jq"
      }
    },
    {
      "cell_type": "code",
      "source": [
        "# Import libraries\n",
        "import pandas as pd\n",
        "import numpy as np\n",
        "\n",
        "# --------------------------\n",
        "# 1. Creating a Series\n",
        "# --------------------------\n",
        "s = pd.Series([10, 20, 30, 40])\n",
        "print(\"Original Series:\")\n",
        "print(s, \"\\n\")\n",
        "\n",
        "# --------------------------\n",
        "# 2. Arithmetic Operations\n",
        "# --------------------------\n",
        "print(\"Addition (+5):\")\n",
        "print(s + 5, \"\\n\")\n",
        "\n",
        "print(\"Subtraction (-2):\")\n",
        "print(s - 2, \"\\n\")\n",
        "\n",
        "print(\"Multiplication (*2):\")\n",
        "print(s * 2, \"\\n\")\n",
        "\n",
        "print(\"Division (/10):\")\n",
        "print(s / 10, \"\\n\")\n",
        "\n",
        "\n",
        "\n",
        "\n"
      ],
      "metadata": {
        "colab": {
          "base_uri": "https://localhost:8080/"
        },
        "id": "hjWESXUEV_kA",
        "outputId": "ed4bdf3f-f4cd-437c-c16f-5de0853b8b92"
      },
      "execution_count": 21,
      "outputs": [
        {
          "output_type": "stream",
          "name": "stdout",
          "text": [
            "Original Series:\n",
            "0    10\n",
            "1    20\n",
            "2    30\n",
            "3    40\n",
            "dtype: int64 \n",
            "\n",
            "Addition (+5):\n",
            "0    15\n",
            "1    25\n",
            "2    35\n",
            "3    45\n",
            "dtype: int64 \n",
            "\n",
            "Subtraction (-2):\n",
            "0     8\n",
            "1    18\n",
            "2    28\n",
            "3    38\n",
            "dtype: int64 \n",
            "\n",
            "Multiplication (*2):\n",
            "0    20\n",
            "1    40\n",
            "2    60\n",
            "3    80\n",
            "dtype: int64 \n",
            "\n",
            "Division (/10):\n",
            "0    1.0\n",
            "1    2.0\n",
            "2    3.0\n",
            "3    4.0\n",
            "dtype: float64 \n",
            "\n"
          ]
        }
      ]
    },
    {
      "cell_type": "code",
      "source": [
        "# Arithmetic between two Series\n",
        "s1 = pd.Series([1, 2, 3, 4])\n",
        "s2 = pd.Series([10, 20, 30, 40])\n",
        "\n",
        "print(\"Addition of two Series:\")\n",
        "print(s1 + s2, \"\\n\")\n",
        "\n",
        "print(\"Multiplication of two Series:\")\n",
        "print(s1 * s2, \"\\n\")\n"
      ],
      "metadata": {
        "colab": {
          "base_uri": "https://localhost:8080/"
        },
        "id": "FOifK-qHj8Sv",
        "outputId": "895a7996-f040-49e3-80ae-7ed9253dd7be"
      },
      "execution_count": 22,
      "outputs": [
        {
          "output_type": "stream",
          "name": "stdout",
          "text": [
            "Addition of two Series:\n",
            "0    11\n",
            "1    22\n",
            "2    33\n",
            "3    44\n",
            "dtype: int64 \n",
            "\n",
            "Multiplication of two Series:\n",
            "0     10\n",
            "1     40\n",
            "2     90\n",
            "3    160\n",
            "dtype: int64 \n",
            "\n"
          ]
        }
      ]
    },
    {
      "cell_type": "markdown",
      "source": [
        "#While adding two series, if Non-Matching Index is found in either of the\n",
        "#Series, Then NaN will be printed corresponds to Non-Matching Index\n"
      ],
      "metadata": {
        "id": "krbOFRWsWl4H"
      }
    },
    {
      "cell_type": "code",
      "source": [
        "import pandas as pd\n",
        "\n",
        "# Series 1\n",
        "s1 = pd.Series([10, 20, 30], index=['a', 'b', 'c'])\n",
        "\n",
        "# Series 2 with some non-matching indices\n",
        "s2 = pd.Series([1, 2, 3], index=['b', 'c', 'd'])\n",
        "\n",
        "# Adding two series\n",
        "result = s1 + s2\n",
        "\n",
        "print(\"Series 1:\")\n",
        "print(s1, \"\\n\")\n",
        "\n",
        "print(\"Series 2:\")\n",
        "print(s2, \"\\n\")\n",
        "\n",
        "print(\"Result of s1 + s2:\")\n",
        "print(result)\n"
      ],
      "metadata": {
        "colab": {
          "base_uri": "https://localhost:8080/"
        },
        "id": "ZK7VqJyGZo0q",
        "outputId": "0acf8828-329c-4297-d828-9ebc8a6125aa"
      },
      "execution_count": 23,
      "outputs": [
        {
          "output_type": "stream",
          "name": "stdout",
          "text": [
            "Series 1:\n",
            "a    10\n",
            "b    20\n",
            "c    30\n",
            "dtype: int64 \n",
            "\n",
            "Series 2:\n",
            "b    1\n",
            "c    2\n",
            "d    3\n",
            "dtype: int64 \n",
            "\n",
            "Result of s1 + s2:\n",
            "a     NaN\n",
            "b    21.0\n",
            "c    32.0\n",
            "d     NaN\n",
            "dtype: float64\n"
          ]
        }
      ]
    },
    {
      "cell_type": "code",
      "source": [
        "\n"
      ],
      "metadata": {
        "id": "kycTeK-hZboX"
      },
      "execution_count": null,
      "outputs": []
    },
    {
      "cell_type": "markdown",
      "source": [
        "#If Non-Matching Index is found in either of the series, then this Non-Matching Index corresponding value of that series will be filled as 0."
      ],
      "metadata": {
        "id": "js50nJEQZfDX"
      }
    },
    {
      "cell_type": "code",
      "source": [
        "import pandas as pd\n",
        "\n",
        "# Series 1\n",
        "s1 = pd.Series([10, 20, 30], index=['a', 'b', 'c'])\n",
        "\n",
        "# Series 2 with some non-matching indices\n",
        "s2 = pd.Series([1, 2, 3], index=['b', 'c', 'd'])\n",
        "\n",
        "print(\"Series 1:\")\n",
        "print(s1, \"\\n\")\n",
        "\n",
        "print(\"Series 2:\")\n",
        "print(s2, \"\\n\")\n",
        "\n",
        "# Addition with fill_value=0\n",
        "result = s1.add(s2, fill_value=0)\n",
        "print(\"Addition with non-matching indices filled as 0:\")\n",
        "print(result)\n"
      ],
      "metadata": {
        "colab": {
          "base_uri": "https://localhost:8080/"
        },
        "id": "0TBWdhNuXgP-",
        "outputId": "d06b3fd4-d08b-4ea8-a23b-39c27d43d4a8"
      },
      "execution_count": 24,
      "outputs": [
        {
          "output_type": "stream",
          "name": "stdout",
          "text": [
            "Series 1:\n",
            "a    10\n",
            "b    20\n",
            "c    30\n",
            "dtype: int64 \n",
            "\n",
            "Series 2:\n",
            "b    1\n",
            "c    2\n",
            "d    3\n",
            "dtype: int64 \n",
            "\n",
            "Addition with non-matching indices filled as 0:\n",
            "a    10.0\n",
            "b    21.0\n",
            "c    32.0\n",
            "d     3.0\n",
            "dtype: float64\n"
          ]
        }
      ]
    },
    {
      "cell_type": "code",
      "source": [
        "import pandas as pd\n",
        "\n",
        "# Series 1\n",
        "s1 = pd.Series([10, 20, 30], index=['a', 'b', 'c'])\n",
        "\n",
        "# Series 2 with some non-matching indices\n",
        "s2 = pd.Series([1, 2, 3], index=['b', 'c', 'd'])\n",
        "\n",
        "# Adding two series\n",
        "result = s1 + s2\n",
        "\n",
        "print(\"Series 1:\")\n",
        "print(s1, \"\\n\")\n",
        "\n",
        "print(\"Series 2:\")\n",
        "print(s2, \"\\n\")\n",
        "\n",
        "print(\"Result of s1 + s2:\")\n",
        "print(result)\n"
      ],
      "metadata": {
        "colab": {
          "base_uri": "https://localhost:8080/"
        },
        "id": "Q4KnrJYuZNkA",
        "outputId": "8e984148-f683-4a15-a30c-ea4b005d9112"
      },
      "execution_count": 8,
      "outputs": [
        {
          "output_type": "stream",
          "name": "stdout",
          "text": [
            "Series 1:\n",
            "a    10\n",
            "b    20\n",
            "c    30\n",
            "dtype: int64 \n",
            "\n",
            "Series 2:\n",
            "b    1\n",
            "c    2\n",
            "d    3\n",
            "dtype: int64 \n",
            "\n",
            "Result of s1 + s2:\n",
            "a     NaN\n",
            "b    21.0\n",
            "c    32.0\n",
            "d     NaN\n",
            "dtype: float64\n"
          ]
        }
      ]
    },
    {
      "cell_type": "markdown",
      "source": [],
      "metadata": {
        "id": "3cpVTzLtZKbX"
      }
    },
    {
      "cell_type": "markdown",
      "source": [
        "#Selection in Series"
      ],
      "metadata": {
        "id": "yQa8PGOAYZ4w"
      }
    },
    {
      "cell_type": "markdown",
      "source": [
        "#1. Using loc (Access by index label)\n",
        "\n",
        "##loc is label-based, meaning it uses the index labels you assigned to the Series.\n",
        "\n",
        "##The stop label is inclusive when slicing with loc."
      ],
      "metadata": {
        "id": "I_nYqrneYmJF"
      }
    },
    {
      "cell_type": "code",
      "source": [
        "import pandas as pd\n",
        "\n",
        "# Create Series with custom index\n",
        "s = pd.Series([100, 200, 300, 400], index=['a', 'b', 'c', 'd'])\n",
        "\n",
        "print(\"Original Series:\")\n",
        "print(s, \"\\n\")\n",
        "\n",
        "# Access single element using loc\n",
        "print(\"Element with index label 'b':\")\n",
        "print(s.loc['b'], \"\\n\")\n",
        "\n",
        "# Access multiple elements using loc (range)\n",
        "print(\"Elements from 'b' to 'd':\")\n",
        "print(s.loc['b':'d'])\n"
      ],
      "metadata": {
        "colab": {
          "base_uri": "https://localhost:8080/"
        },
        "id": "JOLEmwylYcXP",
        "outputId": "0cc1ddb3-17ee-4e47-89f7-bbe80c1b4c56"
      },
      "execution_count": 7,
      "outputs": [
        {
          "output_type": "stream",
          "name": "stdout",
          "text": [
            "Original Series:\n",
            "a    100\n",
            "b    200\n",
            "c    300\n",
            "d    400\n",
            "dtype: int64 \n",
            "\n",
            "Element with index label 'b':\n",
            "200 \n",
            "\n",
            "Elements from 'b' to 'd':\n",
            "b    200\n",
            "c    300\n",
            "d    400\n",
            "dtype: int64\n"
          ]
        }
      ]
    },
    {
      "cell_type": "markdown",
      "source": [
        "#Indexing in Series\n",
        "\n",
        "##Pandas provide index attribute to get or set the index of entries or values in series."
      ],
      "metadata": {
        "id": "tyw3QZ-2bKLS"
      }
    },
    {
      "cell_type": "markdown",
      "source": [],
      "metadata": {
        "id": "rZDZmibVY72m"
      }
    },
    {
      "cell_type": "code",
      "source": [
        "import pandas as pd\n",
        "\n",
        "# Create a Series\n",
        "s = pd.Series([100, 200,300,400 ], index=['a','b','c','d'])\n",
        "\n",
        "# Get the index\n",
        "print(\"Index of Series:\")\n",
        "print(s.index)\n"
      ],
      "metadata": {
        "colab": {
          "base_uri": "https://localhost:8080/"
        },
        "id": "5zPXrSNxWYTv",
        "outputId": "d27eb39a-cf6c-4897-cbe5-01a9935de3b3"
      },
      "execution_count": 27,
      "outputs": [
        {
          "output_type": "stream",
          "name": "stdout",
          "text": [
            "Index of Series:\n",
            "Index(['a', 'b', 'c', 'd'], dtype='object')\n"
          ]
        }
      ]
    },
    {
      "cell_type": "markdown",
      "source": [
        "##2. Setting a new index\n",
        "\n",
        "##We can replace the existing index with a new one:\n",
        "\n"
      ],
      "metadata": {
        "id": "0totuIn6bUVH"
      }
    },
    {
      "cell_type": "code",
      "source": [
        "# Set a new index\n",
        "s.index = ['w', 'x', 'y', 'z']\n",
        "\n",
        "print(\"\\nSeries after changing index:\")\n",
        "print(s)"
      ],
      "metadata": {
        "colab": {
          "base_uri": "https://localhost:8080/"
        },
        "id": "3ODUDqWGbYiY",
        "outputId": "aca75576-0cdb-4341-ff31-22a03f657a43"
      },
      "execution_count": 28,
      "outputs": [
        {
          "output_type": "stream",
          "name": "stdout",
          "text": [
            "\n",
            "Series after changing index:\n",
            "w    100\n",
            "x    200\n",
            "y    300\n",
            "z    400\n",
            "dtype: int64\n"
          ]
        }
      ]
    },
    {
      "cell_type": "markdown",
      "source": [
        "#3. Using index in operations\n",
        "\n",
        "##We can also use the index labels for selection:"
      ],
      "metadata": {
        "id": "7UOs-_5tbb9v"
      }
    },
    {
      "cell_type": "code",
      "source": [
        "print(\"\\nAccess element with index 'y':\")\n",
        "print(s['y'])\n"
      ],
      "metadata": {
        "colab": {
          "base_uri": "https://localhost:8080/"
        },
        "id": "7VoP9lsmbfZ4",
        "outputId": "f66e6b1a-5a7a-4711-c0a2-176ee310fc0e"
      },
      "execution_count": 12,
      "outputs": [
        {
          "output_type": "stream",
          "name": "stdout",
          "text": [
            "\n",
            "Access element with index 'y':\n",
            "300\n"
          ]
        }
      ]
    },
    {
      "cell_type": "markdown",
      "source": [
        "#1. Slicing using [] with default integer index"
      ],
      "metadata": {
        "id": "Q94vqi5kbp6w"
      }
    },
    {
      "cell_type": "code",
      "source": [
        "import pandas as pd\n",
        "\n",
        "# Series with default integer index\n",
        "s = pd.Series([10, 20, 30, 40, 50])\n",
        "\n",
        "# Slice elements from position 1 to 3 (stop exclusive)\n",
        "print(\"Slicing with [] from position 1 to 3:\")\n",
        "print(s[:5])\n"
      ],
      "metadata": {
        "colab": {
          "base_uri": "https://localhost:8080/"
        },
        "id": "QZk52CuBbsB3",
        "outputId": "f75c5026-322e-489d-f1a3-cdc3badee7e5"
      },
      "execution_count": 35,
      "outputs": [
        {
          "output_type": "stream",
          "name": "stdout",
          "text": [
            "Slicing with [] from position 1 to 3:\n",
            "0    10\n",
            "1    20\n",
            "2    30\n",
            "3    40\n",
            "4    50\n",
            "dtype: int64\n"
          ]
        }
      ]
    },
    {
      "cell_type": "markdown",
      "source": [
        "#2. Slicing using loc (label-based)\n",
        "\n",
        "##loc uses index labels.\n",
        "\n",
        "##Stop label is inclusive."
      ],
      "metadata": {
        "id": "IcINZEugby2f"
      }
    },
    {
      "cell_type": "code",
      "source": [
        "# Series with custom index\n",
        "s = pd.Series([100, 200, 300, 400], index=['a', 'b', 'c', 'd'])\n",
        "\n",
        "# Slice using labels\n",
        "print(\"Slicing with loc from 'b' to 'd':\")\n",
        "print(s.loc['b':'d'])\n"
      ],
      "metadata": {
        "colab": {
          "base_uri": "https://localhost:8080/"
        },
        "id": "vLsKtAA_b1ki",
        "outputId": "416094cc-3958-4597-c7bb-b24e05d1deb4"
      },
      "execution_count": 14,
      "outputs": [
        {
          "output_type": "stream",
          "name": "stdout",
          "text": [
            "Slicing with loc from 'b' to 'd':\n",
            "b    200\n",
            "c    300\n",
            "d    400\n",
            "dtype: int64\n"
          ]
        }
      ]
    },
    {
      "cell_type": "markdown",
      "source": [
        "#3. Slicing using iloc (position-based)\n",
        "\n",
        "##iloc uses integer positions.\n",
        "\n",
        "##Stop position is exclusive, like standard Python slicing."
      ],
      "metadata": {
        "id": "3SUdD4dVb6ao"
      }
    },
    {
      "cell_type": "code",
      "source": [
        "# Slice using positions\n",
        "print(\"Slicing with iloc from position 1 to 3:\")\n",
        "print(s.iloc[1:4])\n"
      ],
      "metadata": {
        "colab": {
          "base_uri": "https://localhost:8080/"
        },
        "id": "9alYioV5b96Z",
        "outputId": "04ed60f3-7a3b-41e4-a110-0fa7ee45e24e"
      },
      "execution_count": 15,
      "outputs": [
        {
          "output_type": "stream",
          "name": "stdout",
          "text": [
            "Slicing with iloc from position 1 to 3:\n",
            "b    200\n",
            "c    300\n",
            "d    400\n",
            "dtype: int64\n"
          ]
        }
      ]
    },
    {
      "cell_type": "markdown",
      "source": [
        "#4. Slicing with step\n",
        "\n",
        "##We can also use a step value in slicing:"
      ],
      "metadata": {
        "id": "hX_D4h1wcAKo"
      }
    },
    {
      "cell_type": "code",
      "source": [
        "print(\"Slicing every second element with []:\")\n",
        "print(s[::2])\n"
      ],
      "metadata": {
        "colab": {
          "base_uri": "https://localhost:8080/"
        },
        "id": "xQ7cbLk_cDh3",
        "outputId": "61e5e730-ded6-4666-eca4-71ebbd8b4e05"
      },
      "execution_count": 16,
      "outputs": [
        {
          "output_type": "stream",
          "name": "stdout",
          "text": [
            "Slicing every second element with []:\n",
            "a    100\n",
            "c    300\n",
            "dtype: int64\n"
          ]
        }
      ]
    },
    {
      "cell_type": "markdown",
      "source": [
        "#Series indexing, slicing, loc, iloc, and step slicing in Pandas:"
      ],
      "metadata": {
        "id": "UxwWioJOcRiw"
      }
    },
    {
      "cell_type": "code",
      "source": [
        "import pandas as pd\n",
        "\n",
        "# -----------------------------\n",
        "# 1. Create Series\n",
        "# -----------------------------\n",
        "s_default = pd.Series([10, 20, 30, 40, 50])\n",
        "s_custom = pd.Series([100, 200, 300, 400], index=['a', 'b', 'c', 'd'])\n",
        "\n",
        "print(\"Original Series with default index:\")\n",
        "print(s_default, \"\\n\")\n",
        "\n",
        "print(\"Original Series with custom index:\")\n",
        "print(s_custom, \"\\n\")\n",
        "\n",
        "# -----------------------------\n",
        "# 2. Accessing elements\n",
        "# -----------------------------\n",
        "print(\"Access element at position 2 (default index):\", s_default[2])\n",
        "print(\"Access element with index 'c' (custom index):\", s_custom['c'], \"\\n\")\n",
        "\n",
        "# -----------------------------\n",
        "# 3. Slicing using []\n",
        "# -----------------------------\n",
        "print(\"Slice default index from position 1 to 3 (stop exclusive):\")\n",
        "print(s_default[1:4], \"\\n\")\n",
        "\n",
        "# Slice with step\n",
        "print(\"Slice every second element with [] (default index):\")\n",
        "print(s_default[::2], \"\\n\")\n",
        "\n",
        "# -----------------------------\n",
        "# 4. Slicing using loc (label-based)\n",
        "# -----------------------------\n",
        "print(\"Slice custom index from 'b' to 'd' using loc (stop inclusive):\")\n",
        "print(s_custom.loc['b':'d'], \"\\n\")\n",
        "\n",
        "# -----------------------------\n",
        "# 5. Slicing using iloc (position-based)\n",
        "# -----------------------------\n",
        "print(\"Slice custom index from position 1 to 3 using iloc (stop exclusive):\")\n",
        "print(s_custom.iloc[1:4], \"\\n\")\n",
        "\n",
        "# -----------------------------\n",
        "# 6. Getting and setting index\n",
        "# -----------------------------\n",
        "print(\"Current index of custom Series:\")\n",
        "print(s_custom.index, \"\\n\")\n",
        "\n",
        "# Set new index\n",
        "s_custom.index = ['w', 'x', 'y', 'z']\n",
        "print(\"Custom Series after changing index:\")\n",
        "print(s_custom, \"\\n\")\n",
        "\n",
        "# Access using new index\n",
        "print(\"Access element with new index 'y':\", s_custom['y'])\n"
      ],
      "metadata": {
        "colab": {
          "base_uri": "https://localhost:8080/"
        },
        "id": "F-QozM9Wcb1A",
        "outputId": "c74b8481-88f5-4a64-a20d-fbf75efc187a"
      },
      "execution_count": 17,
      "outputs": [
        {
          "output_type": "stream",
          "name": "stdout",
          "text": [
            "Original Series with default index:\n",
            "0    10\n",
            "1    20\n",
            "2    30\n",
            "3    40\n",
            "4    50\n",
            "dtype: int64 \n",
            "\n",
            "Original Series with custom index:\n",
            "a    100\n",
            "b    200\n",
            "c    300\n",
            "d    400\n",
            "dtype: int64 \n",
            "\n",
            "Access element at position 2 (default index): 30\n",
            "Access element with index 'c' (custom index): 300 \n",
            "\n",
            "Slice default index from position 1 to 3 (stop exclusive):\n",
            "1    20\n",
            "2    30\n",
            "3    40\n",
            "dtype: int64 \n",
            "\n",
            "Slice every second element with [] (default index):\n",
            "0    10\n",
            "2    30\n",
            "4    50\n",
            "dtype: int64 \n",
            "\n",
            "Slice custom index from 'b' to 'd' using loc (stop inclusive):\n",
            "b    200\n",
            "c    300\n",
            "d    400\n",
            "dtype: int64 \n",
            "\n",
            "Slice custom index from position 1 to 3 using iloc (stop exclusive):\n",
            "b    200\n",
            "c    300\n",
            "d    400\n",
            "dtype: int64 \n",
            "\n",
            "Current index of custom Series:\n",
            "Index(['a', 'b', 'c', 'd'], dtype='object') \n",
            "\n",
            "Custom Series after changing index:\n",
            "w    100\n",
            "x    200\n",
            "y    300\n",
            "z    400\n",
            "dtype: int64 \n",
            "\n",
            "Access element with new index 'y': 300\n"
          ]
        }
      ]
    },
    {
      "cell_type": "markdown",
      "source": [
        "#Pandas - Analyzing DataFrames"
      ],
      "metadata": {
        "id": "7irSff8DJtMy"
      }
    },
    {
      "cell_type": "markdown",
      "source": [
        "#Viewing the Data\n",
        "##One of the most used method for getting a quick overview of the DataFrame, is the head() method.\n",
        "\n",
        "##The head() method returns the headers and a specified number of rows, starting from the top."
      ],
      "metadata": {
        "id": "oNxhfaf1Jxcv"
      }
    },
    {
      "cell_type": "code",
      "source": [
        "import pandas as pd\n",
        "\n",
        "df = pd.read_csv('data.csv')\n",
        "\n",
        "print(df.head())"
      ],
      "metadata": {
        "colab": {
          "base_uri": "https://localhost:8080/"
        },
        "id": "PpetRxLqJwQC",
        "outputId": "52e347cf-62df-4dfa-866d-5ae2e56c0553"
      },
      "execution_count": null,
      "outputs": [
        {
          "output_type": "stream",
          "name": "stdout",
          "text": [
            "     Duration  Pulse  Maxpulse  Calories\n",
            "168        75    125       150     330.4\n"
          ]
        }
      ]
    },
    {
      "cell_type": "markdown",
      "source": [
        "#Note: if the number of rows is not specified, the head() method will return the top 5 rows."
      ],
      "metadata": {
        "id": "f8--T90zJ5Xi"
      }
    },
    {
      "cell_type": "code",
      "source": [
        "import pandas as pd\n",
        "\n",
        "df = pd.read_csv('data.csv')\n",
        "\n",
        "print(df.head())"
      ],
      "metadata": {
        "colab": {
          "base_uri": "https://localhost:8080/"
        },
        "id": "najtBLTtJ86o",
        "outputId": "8a480367-8ca0-462e-9ffd-0dde5373402b"
      },
      "execution_count": null,
      "outputs": [
        {
          "output_type": "stream",
          "name": "stdout",
          "text": [
            "   Duration  Pulse  Maxpulse  Calories\n",
            "0        60    110       130     409.1\n",
            "1        60    117       145     479.0\n",
            "2        60    103       135     340.0\n",
            "3        45    109       175     282.4\n",
            "4        45    117       148     406.0\n"
          ]
        }
      ]
    },
    {
      "cell_type": "markdown",
      "source": [
        "##There is also a tail() method for viewing the last rows of the DataFrame.\n",
        "\n",
        "##The tail() method returns the headers and a specified number of rows, starting from the bottom."
      ],
      "metadata": {
        "id": "Z5kSaEI6KARD"
      }
    },
    {
      "cell_type": "markdown",
      "source": [
        "#Example\n",
        "#Print the last 5 rows of the DataFrame:"
      ],
      "metadata": {
        "id": "3rkEHk5YKGN0"
      }
    },
    {
      "cell_type": "code",
      "source": [
        "print(df.tail())"
      ],
      "metadata": {
        "colab": {
          "base_uri": "https://localhost:8080/"
        },
        "id": "nCc9tHgcKDrb",
        "outputId": "b691d92d-de20-4945-a3fc-869df4b1b34a"
      },
      "execution_count": null,
      "outputs": [
        {
          "output_type": "stream",
          "name": "stdout",
          "text": [
            "     Duration  Pulse  Maxpulse  Calories\n",
            "164        60    105       140     290.8\n",
            "165        60    110       145     300.0\n",
            "166        60    115       145     310.2\n",
            "167        75    120       150     320.4\n",
            "168        75    125       150     330.4\n"
          ]
        }
      ]
    },
    {
      "cell_type": "markdown",
      "source": [
        "#Info About the Data\n",
        "#The DataFrames object has a method called info(), that gives you more information about the data set.\n",
        "\n",
        "#Example\n",
        "##Print information about the data:"
      ],
      "metadata": {
        "id": "lvsm0ju_KJyE"
      }
    },
    {
      "cell_type": "code",
      "source": [
        "print(df.info())"
      ],
      "metadata": {
        "colab": {
          "base_uri": "https://localhost:8080/"
        },
        "id": "EkylngSzKN9T",
        "outputId": "44cde4e6-90a7-4239-a8a8-53f8cfca887b"
      },
      "execution_count": null,
      "outputs": [
        {
          "output_type": "stream",
          "name": "stdout",
          "text": [
            "<class 'pandas.core.frame.DataFrame'>\n",
            "RangeIndex: 169 entries, 0 to 168\n",
            "Data columns (total 4 columns):\n",
            " #   Column    Non-Null Count  Dtype  \n",
            "---  ------    --------------  -----  \n",
            " 0   Duration  169 non-null    int64  \n",
            " 1   Pulse     169 non-null    int64  \n",
            " 2   Maxpulse  169 non-null    int64  \n",
            " 3   Calories  164 non-null    float64\n",
            "dtypes: float64(1), int64(3)\n",
            "memory usage: 5.4 KB\n",
            "None\n"
          ]
        }
      ]
    },
    {
      "cell_type": "markdown",
      "source": [
        "#Pandas - Cleaning Data"
      ],
      "metadata": {
        "id": "K6UCY-24KR0a"
      }
    },
    {
      "cell_type": "markdown",
      "source": [
        "#Data Cleaning\n",
        "##Data cleaning means fixing bad data in your data set.\n",
        "\n",
        "##Bad data could be:\n",
        "\n",
        "##Empty cells\n",
        "##Data in wrong format\n",
        "##Wrong data\n",
        "##Duplicates"
      ],
      "metadata": {
        "id": "W50CTM7VKUZC"
      }
    },
    {
      "cell_type": "markdown",
      "source": [
        "##The data set contains some empty cells (\"Date\" in row 22, and \"Calories\" in row 18 and 28).\n",
        "\n",
        "##The data set contains wrong format (\"Date\" in row 26).\n",
        "\n",
        "##The data set contains wrong data (\"Duration\" in row 7).\n",
        "\n",
        "##The data set contains duplicates (row 11 and 12).\n",
        "\n"
      ],
      "metadata": {
        "id": "LseaPv2eKcXD"
      }
    },
    {
      "cell_type": "markdown",
      "source": [
        "##Pandas - Cleaning Empty Cells"
      ],
      "metadata": {
        "id": "kUZ-nx1rKtVD"
      }
    },
    {
      "cell_type": "markdown",
      "source": [
        "#Empty Cells\n",
        "##Empty cells can potentially give you a wrong result when you analyze data.\n",
        "\n",
        "#Remove Rows\n",
        "##One way to deal with empty cells is to remove rows that contain empty cells.\n",
        "\n",
        "##This is usually OK, since data sets can be very big, and removing a few rows will not have a big impact on the result."
      ],
      "metadata": {
        "id": "gmVL33oYKmWT"
      }
    },
    {
      "cell_type": "markdown",
      "source": [
        "#Example\n",
        "##Get your own Python Server\n",
        "##Return a new Data Frame with no empty cells:"
      ],
      "metadata": {
        "id": "L_YAOTjcK3SW"
      }
    },
    {
      "cell_type": "code",
      "source": [
        "import pandas as pd\n",
        "\n",
        "df = pd.read_csv('data.csv')\n",
        "\n",
        "new_df = df.dropna()\n",
        "\n",
        "print(new_df.to_string())"
      ],
      "metadata": {
        "colab": {
          "base_uri": "https://localhost:8080/"
        },
        "id": "GUJ9bk21K8TK",
        "outputId": "09fb254f-e850-4141-ad17-d8b7ef9b182e"
      },
      "execution_count": null,
      "outputs": [
        {
          "output_type": "stream",
          "name": "stdout",
          "text": [
            "     Duration  Pulse  Maxpulse  Calories\n",
            "0          60    110       130     409.1\n",
            "1          60    117       145     479.0\n",
            "2          60    103       135     340.0\n",
            "3          45    109       175     282.4\n",
            "4          45    117       148     406.0\n",
            "5          60    102       127     300.0\n",
            "6          60    110       136     374.0\n",
            "7          45    104       134     253.3\n",
            "8          30    109       133     195.1\n",
            "9          60     98       124     269.0\n",
            "10         60    103       147     329.3\n",
            "11         60    100       120     250.7\n",
            "12         60    106       128     345.3\n",
            "13         60    104       132     379.3\n",
            "14         60     98       123     275.0\n",
            "15         60     98       120     215.2\n",
            "16         60    100       120     300.0\n",
            "18         60    103       123     323.0\n",
            "19         45     97       125     243.0\n",
            "20         60    108       131     364.2\n",
            "21         45    100       119     282.0\n",
            "22         60    130       101     300.0\n",
            "23         45    105       132     246.0\n",
            "24         60    102       126     334.5\n",
            "25         60    100       120     250.0\n",
            "26         60     92       118     241.0\n",
            "28         60    100       132     280.0\n",
            "29         60    102       129     380.3\n",
            "30         60     92       115     243.0\n",
            "31         45     90       112     180.1\n",
            "32         60    101       124     299.0\n",
            "33         60     93       113     223.0\n",
            "34         60    107       136     361.0\n",
            "35         60    114       140     415.0\n",
            "36         60    102       127     300.0\n",
            "37         60    100       120     300.0\n",
            "38         60    100       120     300.0\n",
            "39         45    104       129     266.0\n",
            "40         45     90       112     180.1\n",
            "41         60     98       126     286.0\n",
            "42         60    100       122     329.4\n",
            "43         60    111       138     400.0\n",
            "44         60    111       131     397.0\n",
            "45         60     99       119     273.0\n",
            "46         60    109       153     387.6\n",
            "47         45    111       136     300.0\n",
            "48         45    108       129     298.0\n",
            "49         60    111       139     397.6\n",
            "50         60    107       136     380.2\n",
            "51         80    123       146     643.1\n",
            "52         60    106       130     263.0\n",
            "53         60    118       151     486.0\n",
            "54         30    136       175     238.0\n",
            "55         60    121       146     450.7\n",
            "56         60    118       121     413.0\n",
            "57         45    115       144     305.0\n",
            "58         20    153       172     226.4\n",
            "59         45    123       152     321.0\n",
            "60        210    108       160    1376.0\n",
            "61        160    110       137    1034.4\n",
            "62        160    109       135     853.0\n",
            "63         45    118       141     341.0\n",
            "64         20    110       130     131.4\n",
            "65        180     90       130     800.4\n",
            "66        150    105       135     873.4\n",
            "67        150    107       130     816.0\n",
            "68         20    106       136     110.4\n",
            "69        300    108       143    1500.2\n",
            "70        150     97       129    1115.0\n",
            "71         60    109       153     387.6\n",
            "72         90    100       127     700.0\n",
            "73        150     97       127     953.2\n",
            "74         45    114       146     304.0\n",
            "75         90     98       125     563.2\n",
            "76         45    105       134     251.0\n",
            "77         45    110       141     300.0\n",
            "78        120    100       130     500.4\n",
            "79        270    100       131    1729.0\n",
            "80         30    159       182     319.2\n",
            "81         45    149       169     344.0\n",
            "82         30    103       139     151.1\n",
            "83        120    100       130     500.0\n",
            "84         45    100       120     225.3\n",
            "85         30    151       170     300.0\n",
            "86         45    102       136     234.0\n",
            "87        120    100       157    1000.1\n",
            "88         45    129       103     242.0\n",
            "89         20     83       107      50.3\n",
            "90        180    101       127     600.1\n",
            "92         30     90       107     105.3\n",
            "93         15     80       100      50.5\n",
            "94         20    150       171     127.4\n",
            "95         20    151       168     229.4\n",
            "96         30     95       128     128.2\n",
            "97         25    152       168     244.2\n",
            "98         30    109       131     188.2\n",
            "99         90     93       124     604.1\n",
            "100        20     95       112      77.7\n",
            "101        90     90       110     500.0\n",
            "102        90     90       100     500.0\n",
            "103        90     90       100     500.4\n",
            "104        30     92       108      92.7\n",
            "105        30     93       128     124.0\n",
            "106       180     90       120     800.3\n",
            "107        30     90       120      86.2\n",
            "108        90     90       120     500.3\n",
            "109       210    137       184    1860.4\n",
            "110        60    102       124     325.2\n",
            "111        45    107       124     275.0\n",
            "112        15    124       139     124.2\n",
            "113        45    100       120     225.3\n",
            "114        60    108       131     367.6\n",
            "115        60    108       151     351.7\n",
            "116        60    116       141     443.0\n",
            "117        60     97       122     277.4\n",
            "119        60    103       124     332.7\n",
            "120        30    112       137     193.9\n",
            "121        45    100       120     100.7\n",
            "122        60    119       169     336.7\n",
            "123        60    107       127     344.9\n",
            "124        60    111       151     368.5\n",
            "125        60     98       122     271.0\n",
            "126        60     97       124     275.3\n",
            "127        60    109       127     382.0\n",
            "128        90     99       125     466.4\n",
            "129        60    114       151     384.0\n",
            "130        60    104       134     342.5\n",
            "131        60    107       138     357.5\n",
            "132        60    103       133     335.0\n",
            "133        60    106       132     327.5\n",
            "134        60    103       136     339.0\n",
            "135        20    136       156     189.0\n",
            "136        45    117       143     317.7\n",
            "137        45    115       137     318.0\n",
            "138        45    113       138     308.0\n",
            "139        20    141       162     222.4\n",
            "140        60    108       135     390.0\n",
            "142        45    100       120     250.4\n",
            "143        45    122       149     335.4\n",
            "144        60    136       170     470.2\n",
            "145        45    106       126     270.8\n",
            "146        60    107       136     400.0\n",
            "147        60    112       146     361.9\n",
            "148        30    103       127     185.0\n",
            "149        60    110       150     409.4\n",
            "150        60    106       134     343.0\n",
            "151        60    109       129     353.2\n",
            "152        60    109       138     374.0\n",
            "153        30    150       167     275.8\n",
            "154        60    105       128     328.0\n",
            "155        60    111       151     368.5\n",
            "156        60     97       131     270.4\n",
            "157        60    100       120     270.4\n",
            "158        60    114       150     382.8\n",
            "159        30     80       120     240.9\n",
            "160        30     85       120     250.4\n",
            "161        45     90       130     260.4\n",
            "162        45     95       130     270.0\n",
            "163        45    100       140     280.9\n",
            "164        60    105       140     290.8\n",
            "165        60    110       145     300.0\n",
            "166        60    115       145     310.2\n",
            "167        75    120       150     320.4\n",
            "168        75    125       150     330.4\n"
          ]
        }
      ]
    },
    {
      "cell_type": "markdown",
      "source": [
        "#Note: By default, the dropna() method returns a new DataFrame, and will not change the original.\n",
        "\n",
        "##If you want to change the original DataFrame, use the inplace = True argument:"
      ],
      "metadata": {
        "id": "EaZMYzENLQHD"
      }
    },
    {
      "cell_type": "markdown",
      "source": [
        "##Remove all rows with NULL values:"
      ],
      "metadata": {
        "id": "IS95ALenLVPk"
      }
    },
    {
      "cell_type": "code",
      "source": [
        "import pandas as pd\n",
        "\n",
        "df = pd.read_csv('data.csv')\n",
        "\n",
        "df.dropna(inplace = True)\n",
        "\n",
        "print(df.to_string())"
      ],
      "metadata": {
        "colab": {
          "base_uri": "https://localhost:8080/"
        },
        "id": "l_JXJPxZKboL",
        "outputId": "a461f393-f5ae-45b8-d7c8-88b015188efb"
      },
      "execution_count": null,
      "outputs": [
        {
          "output_type": "stream",
          "name": "stdout",
          "text": [
            "     Duration  Pulse  Maxpulse  Calories\n",
            "0          60    110       130     409.1\n",
            "1          60    117       145     479.0\n",
            "2          60    103       135     340.0\n",
            "3          45    109       175     282.4\n",
            "4          45    117       148     406.0\n",
            "5          60    102       127     300.0\n",
            "6          60    110       136     374.0\n",
            "7          45    104       134     253.3\n",
            "8          30    109       133     195.1\n",
            "9          60     98       124     269.0\n",
            "10         60    103       147     329.3\n",
            "11         60    100       120     250.7\n",
            "12         60    106       128     345.3\n",
            "13         60    104       132     379.3\n",
            "14         60     98       123     275.0\n",
            "15         60     98       120     215.2\n",
            "16         60    100       120     300.0\n",
            "18         60    103       123     323.0\n",
            "19         45     97       125     243.0\n",
            "20         60    108       131     364.2\n",
            "21         45    100       119     282.0\n",
            "22         60    130       101     300.0\n",
            "23         45    105       132     246.0\n",
            "24         60    102       126     334.5\n",
            "25         60    100       120     250.0\n",
            "26         60     92       118     241.0\n",
            "28         60    100       132     280.0\n",
            "29         60    102       129     380.3\n",
            "30         60     92       115     243.0\n",
            "31         45     90       112     180.1\n",
            "32         60    101       124     299.0\n",
            "33         60     93       113     223.0\n",
            "34         60    107       136     361.0\n",
            "35         60    114       140     415.0\n",
            "36         60    102       127     300.0\n",
            "37         60    100       120     300.0\n",
            "38         60    100       120     300.0\n",
            "39         45    104       129     266.0\n",
            "40         45     90       112     180.1\n",
            "41         60     98       126     286.0\n",
            "42         60    100       122     329.4\n",
            "43         60    111       138     400.0\n",
            "44         60    111       131     397.0\n",
            "45         60     99       119     273.0\n",
            "46         60    109       153     387.6\n",
            "47         45    111       136     300.0\n",
            "48         45    108       129     298.0\n",
            "49         60    111       139     397.6\n",
            "50         60    107       136     380.2\n",
            "51         80    123       146     643.1\n",
            "52         60    106       130     263.0\n",
            "53         60    118       151     486.0\n",
            "54         30    136       175     238.0\n",
            "55         60    121       146     450.7\n",
            "56         60    118       121     413.0\n",
            "57         45    115       144     305.0\n",
            "58         20    153       172     226.4\n",
            "59         45    123       152     321.0\n",
            "60        210    108       160    1376.0\n",
            "61        160    110       137    1034.4\n",
            "62        160    109       135     853.0\n",
            "63         45    118       141     341.0\n",
            "64         20    110       130     131.4\n",
            "65        180     90       130     800.4\n",
            "66        150    105       135     873.4\n",
            "67        150    107       130     816.0\n",
            "68         20    106       136     110.4\n",
            "69        300    108       143    1500.2\n",
            "70        150     97       129    1115.0\n",
            "71         60    109       153     387.6\n",
            "72         90    100       127     700.0\n",
            "73        150     97       127     953.2\n",
            "74         45    114       146     304.0\n",
            "75         90     98       125     563.2\n",
            "76         45    105       134     251.0\n",
            "77         45    110       141     300.0\n",
            "78        120    100       130     500.4\n",
            "79        270    100       131    1729.0\n",
            "80         30    159       182     319.2\n",
            "81         45    149       169     344.0\n",
            "82         30    103       139     151.1\n",
            "83        120    100       130     500.0\n",
            "84         45    100       120     225.3\n",
            "85         30    151       170     300.0\n",
            "86         45    102       136     234.0\n",
            "87        120    100       157    1000.1\n",
            "88         45    129       103     242.0\n",
            "89         20     83       107      50.3\n",
            "90        180    101       127     600.1\n",
            "92         30     90       107     105.3\n",
            "93         15     80       100      50.5\n",
            "94         20    150       171     127.4\n",
            "95         20    151       168     229.4\n",
            "96         30     95       128     128.2\n",
            "97         25    152       168     244.2\n",
            "98         30    109       131     188.2\n",
            "99         90     93       124     604.1\n",
            "100        20     95       112      77.7\n",
            "101        90     90       110     500.0\n",
            "102        90     90       100     500.0\n",
            "103        90     90       100     500.4\n",
            "104        30     92       108      92.7\n",
            "105        30     93       128     124.0\n",
            "106       180     90       120     800.3\n",
            "107        30     90       120      86.2\n",
            "108        90     90       120     500.3\n",
            "109       210    137       184    1860.4\n",
            "110        60    102       124     325.2\n",
            "111        45    107       124     275.0\n",
            "112        15    124       139     124.2\n",
            "113        45    100       120     225.3\n",
            "114        60    108       131     367.6\n",
            "115        60    108       151     351.7\n",
            "116        60    116       141     443.0\n",
            "117        60     97       122     277.4\n",
            "119        60    103       124     332.7\n",
            "120        30    112       137     193.9\n",
            "121        45    100       120     100.7\n",
            "122        60    119       169     336.7\n",
            "123        60    107       127     344.9\n",
            "124        60    111       151     368.5\n",
            "125        60     98       122     271.0\n",
            "126        60     97       124     275.3\n",
            "127        60    109       127     382.0\n",
            "128        90     99       125     466.4\n",
            "129        60    114       151     384.0\n",
            "130        60    104       134     342.5\n",
            "131        60    107       138     357.5\n",
            "132        60    103       133     335.0\n",
            "133        60    106       132     327.5\n",
            "134        60    103       136     339.0\n",
            "135        20    136       156     189.0\n",
            "136        45    117       143     317.7\n",
            "137        45    115       137     318.0\n",
            "138        45    113       138     308.0\n",
            "139        20    141       162     222.4\n",
            "140        60    108       135     390.0\n",
            "142        45    100       120     250.4\n",
            "143        45    122       149     335.4\n",
            "144        60    136       170     470.2\n",
            "145        45    106       126     270.8\n",
            "146        60    107       136     400.0\n",
            "147        60    112       146     361.9\n",
            "148        30    103       127     185.0\n",
            "149        60    110       150     409.4\n",
            "150        60    106       134     343.0\n",
            "151        60    109       129     353.2\n",
            "152        60    109       138     374.0\n",
            "153        30    150       167     275.8\n",
            "154        60    105       128     328.0\n",
            "155        60    111       151     368.5\n",
            "156        60     97       131     270.4\n",
            "157        60    100       120     270.4\n",
            "158        60    114       150     382.8\n",
            "159        30     80       120     240.9\n",
            "160        30     85       120     250.4\n",
            "161        45     90       130     260.4\n",
            "162        45     95       130     270.0\n",
            "163        45    100       140     280.9\n",
            "164        60    105       140     290.8\n",
            "165        60    110       145     300.0\n",
            "166        60    115       145     310.2\n",
            "167        75    120       150     320.4\n",
            "168        75    125       150     330.4\n"
          ]
        }
      ]
    },
    {
      "cell_type": "markdown",
      "source": [
        "#Q.1  Create dataframe for the storage of the following information:\n",
        "#Name : \"Yogeshawar, \"Mk\", \"Jk\", \"PK\"\n",
        "#Age : 1,2,3,4\n",
        "##Cousre :\"Python\", \"C\", \"C++\", \"Java\"\n",
        "\n",
        "##Q.2 Create Series from the  below information:\n",
        "##Age :1,2,3,4,5\n",
        "\n",
        "##Q.3 Read the  Data.csv file and perform the following operation\n",
        "1. head()\n",
        "2. tail()\n",
        "3. info()\n",
        "4. describe()\n",
        "5. drop null values\n",
        "6. mean()\n",
        "7. average"
      ],
      "metadata": {
        "id": "GxJzPSdal10z"
      }
    },
    {
      "cell_type": "markdown",
      "source": [
        "\n",
        "\n",
        "\n"
      ],
      "metadata": {
        "id": "_pelvQ7dkrif"
      }
    },
    {
      "cell_type": "markdown",
      "source": [
        "#Note: Now, the dropna(inplace = True) will NOT return a new DataFrame, but it will remove all rows containing NULL values from the original DataFrame."
      ],
      "metadata": {
        "id": "xZyqxr5QLizi"
      }
    },
    {
      "cell_type": "markdown",
      "source": [
        "#Replace Empty Values\n",
        "##Another way of dealing with empty cells is to insert a new value instead.\n",
        "\n",
        "##This way you do not have to delete entire rows just because of some empty cells.\n",
        "\n",
        "##The fillna() method allows us to replace empty cells with a value:"
      ],
      "metadata": {
        "id": "sBQQ0RBPLlmE"
      }
    },
    {
      "cell_type": "markdown",
      "source": [
        "#Example\n",
        "##Replace NULL values with the number 130:"
      ],
      "metadata": {
        "id": "nYetj0nULsIl"
      }
    },
    {
      "cell_type": "code",
      "source": [
        "import pandas as pd\n",
        "\n",
        "df = pd.read_csv('data.csv')\n",
        "\n",
        "df.fillna(130, inplace = True)"
      ],
      "metadata": {
        "id": "H5DQX86ILvnS"
      },
      "execution_count": null,
      "outputs": []
    },
    {
      "cell_type": "code",
      "source": [],
      "metadata": {
        "id": "RGvi8MQEqw_B"
      },
      "execution_count": null,
      "outputs": []
    },
    {
      "cell_type": "code",
      "source": [],
      "metadata": {
        "id": "aQA1Jf9-qq8V"
      },
      "execution_count": null,
      "outputs": []
    },
    {
      "cell_type": "markdown",
      "source": [
        "#Replace Only For Specified Columns\n",
        "##The example above replaces all empty cells in the whole Data Frame.\n",
        "\n",
        "##To only replace empty values for one column, specify the column name for the DataFrame:"
      ],
      "metadata": {
        "id": "D2MEeUn-LzLz"
      }
    },
    {
      "cell_type": "markdown",
      "source": [
        "#Example\n",
        "##Replace NULL values in the \"Calories\" columns with the number 130:"
      ],
      "metadata": {
        "id": "P1dcGSWnL3_W"
      }
    },
    {
      "cell_type": "code",
      "source": [
        "import pandas as pd\n",
        "\n",
        "df = pd.read_csv('data.csv')\n",
        "\n",
        "df.fillna({\"Calories\": 130}, inplace=True)"
      ],
      "metadata": {
        "id": "rVs16AI_L2v8"
      },
      "execution_count": null,
      "outputs": []
    },
    {
      "cell_type": "markdown",
      "source": [
        "#Replace Using Mean, Median, or Mode\n",
        "##A common way to replace empty cells, is to calculate the mean, median or mode value of the column.\n",
        "\n",
        "##Pandas uses the mean() median() and mode() methods to calculate the respective values for a specified column:"
      ],
      "metadata": {
        "id": "mFuqnPfXL87L"
      }
    },
    {
      "cell_type": "markdown",
      "source": [
        "#Example\n",
        "##Calculate the MEAN, and replace any empty values with it:"
      ],
      "metadata": {
        "id": "2fyCa97WMA-2"
      }
    },
    {
      "cell_type": "code",
      "source": [
        "import pandas as pd\n",
        "\n",
        "df = pd.read_csv('data.csv')\n",
        "\n",
        "x = df[\"Calories\"].mean()\n",
        "\n",
        "df.fillna({\"Calories\": x}, inplace=True)"
      ],
      "metadata": {
        "id": "XYBls2CNLq86"
      },
      "execution_count": null,
      "outputs": []
    },
    {
      "cell_type": "markdown",
      "source": [
        "#Mean = the average value (the sum of all values divided by number of values)."
      ],
      "metadata": {
        "id": "TO7gpsumMH6i"
      }
    },
    {
      "cell_type": "markdown",
      "source": [
        "#Example\n",
        "##Calculate the MEDIAN, and replace any empty values with it:"
      ],
      "metadata": {
        "id": "mzGtNXWAMLtl"
      }
    },
    {
      "cell_type": "code",
      "source": [
        "import pandas as pd\n",
        "\n",
        "df = pd.read_csv('data.csv')\n",
        "\n",
        "x = df[\"Calories\"].median()\n",
        "\n",
        "df.fillna({\"Calories\": x}, inplace=True)"
      ],
      "metadata": {
        "id": "2XLVUx5vMO2s"
      },
      "execution_count": null,
      "outputs": []
    },
    {
      "cell_type": "markdown",
      "source": [
        "#Median = the value in the middle, after you have sorted all values ascending."
      ],
      "metadata": {
        "id": "kmXwqYonMRNy"
      }
    },
    {
      "cell_type": "markdown",
      "source": [
        "#Example\n",
        "##Calculate the MODE, and replace any empty values with it:"
      ],
      "metadata": {
        "id": "LkV1jHILMT2e"
      }
    },
    {
      "cell_type": "code",
      "source": [
        "import pandas as pd\n",
        "\n",
        "df = pd.read_csv('data.csv')\n",
        "\n",
        "x = df[\"Calories\"].mode()[0]\n",
        "\n",
        "df.fillna({\"Calories\": x}, inplace=True)"
      ],
      "metadata": {
        "id": "SHFGCz6jMXlj"
      },
      "execution_count": null,
      "outputs": []
    },
    {
      "cell_type": "markdown",
      "source": [
        "#Pandas - Data Correlations"
      ],
      "metadata": {
        "id": "W4yB7v-kMbwb"
      }
    },
    {
      "cell_type": "markdown",
      "source": [
        "#Finding Relationships\n",
        "##A great aspect of the Pandas module is the corr() method.\n",
        "\n",
        "##The corr() method calculates the relationship between each column in your data set.\n",
        "\n",
        "##The examples in this page uses a CSV file called: 'data.csv'.\n",
        "\n"
      ],
      "metadata": {
        "id": "02j_h13VMgyQ"
      }
    },
    {
      "cell_type": "markdown",
      "source": [
        "#ExampleGet your own Python Server\n",
        "##Show the relationship between the columns:"
      ],
      "metadata": {
        "id": "1Q0HTmDqMyjI"
      }
    },
    {
      "cell_type": "code",
      "source": [
        "\n",
        "\n",
        "df.corr()"
      ],
      "metadata": {
        "colab": {
          "base_uri": "https://localhost:8080/",
          "height": 175
        },
        "id": "pQU9DRAFMwnj",
        "outputId": "b36e48fc-d346-49be-db11-3c784096ab9e"
      },
      "execution_count": null,
      "outputs": [
        {
          "output_type": "execute_result",
          "data": {
            "text/plain": [
              "          Duration     Pulse  Maxpulse  Calories\n",
              "Duration  1.000000 -0.155408  0.009403  0.922425\n",
              "Pulse    -0.155408  1.000000  0.786535  0.029110\n",
              "Maxpulse  0.009403  0.786535  1.000000  0.206020\n",
              "Calories  0.922425  0.029110  0.206020  1.000000"
            ],
            "text/html": [
              "\n",
              "  <div id=\"df-ac24b367-d16b-4c10-9396-a98453f22581\" class=\"colab-df-container\">\n",
              "    <div>\n",
              "<style scoped>\n",
              "    .dataframe tbody tr th:only-of-type {\n",
              "        vertical-align: middle;\n",
              "    }\n",
              "\n",
              "    .dataframe tbody tr th {\n",
              "        vertical-align: top;\n",
              "    }\n",
              "\n",
              "    .dataframe thead th {\n",
              "        text-align: right;\n",
              "    }\n",
              "</style>\n",
              "<table border=\"1\" class=\"dataframe\">\n",
              "  <thead>\n",
              "    <tr style=\"text-align: right;\">\n",
              "      <th></th>\n",
              "      <th>Duration</th>\n",
              "      <th>Pulse</th>\n",
              "      <th>Maxpulse</th>\n",
              "      <th>Calories</th>\n",
              "    </tr>\n",
              "  </thead>\n",
              "  <tbody>\n",
              "    <tr>\n",
              "      <th>Duration</th>\n",
              "      <td>1.000000</td>\n",
              "      <td>-0.155408</td>\n",
              "      <td>0.009403</td>\n",
              "      <td>0.922425</td>\n",
              "    </tr>\n",
              "    <tr>\n",
              "      <th>Pulse</th>\n",
              "      <td>-0.155408</td>\n",
              "      <td>1.000000</td>\n",
              "      <td>0.786535</td>\n",
              "      <td>0.029110</td>\n",
              "    </tr>\n",
              "    <tr>\n",
              "      <th>Maxpulse</th>\n",
              "      <td>0.009403</td>\n",
              "      <td>0.786535</td>\n",
              "      <td>1.000000</td>\n",
              "      <td>0.206020</td>\n",
              "    </tr>\n",
              "    <tr>\n",
              "      <th>Calories</th>\n",
              "      <td>0.922425</td>\n",
              "      <td>0.029110</td>\n",
              "      <td>0.206020</td>\n",
              "      <td>1.000000</td>\n",
              "    </tr>\n",
              "  </tbody>\n",
              "</table>\n",
              "</div>\n",
              "    <div class=\"colab-df-buttons\">\n",
              "\n",
              "  <div class=\"colab-df-container\">\n",
              "    <button class=\"colab-df-convert\" onclick=\"convertToInteractive('df-ac24b367-d16b-4c10-9396-a98453f22581')\"\n",
              "            title=\"Convert this dataframe to an interactive table.\"\n",
              "            style=\"display:none;\">\n",
              "\n",
              "  <svg xmlns=\"http://www.w3.org/2000/svg\" height=\"24px\" viewBox=\"0 -960 960 960\">\n",
              "    <path d=\"M120-120v-720h720v720H120Zm60-500h600v-160H180v160Zm220 220h160v-160H400v160Zm0 220h160v-160H400v160ZM180-400h160v-160H180v160Zm440 0h160v-160H620v160ZM180-180h160v-160H180v160Zm440 0h160v-160H620v160Z\"/>\n",
              "  </svg>\n",
              "    </button>\n",
              "\n",
              "  <style>\n",
              "    .colab-df-container {\n",
              "      display:flex;\n",
              "      gap: 12px;\n",
              "    }\n",
              "\n",
              "    .colab-df-convert {\n",
              "      background-color: #E8F0FE;\n",
              "      border: none;\n",
              "      border-radius: 50%;\n",
              "      cursor: pointer;\n",
              "      display: none;\n",
              "      fill: #1967D2;\n",
              "      height: 32px;\n",
              "      padding: 0 0 0 0;\n",
              "      width: 32px;\n",
              "    }\n",
              "\n",
              "    .colab-df-convert:hover {\n",
              "      background-color: #E2EBFA;\n",
              "      box-shadow: 0px 1px 2px rgba(60, 64, 67, 0.3), 0px 1px 3px 1px rgba(60, 64, 67, 0.15);\n",
              "      fill: #174EA6;\n",
              "    }\n",
              "\n",
              "    .colab-df-buttons div {\n",
              "      margin-bottom: 4px;\n",
              "    }\n",
              "\n",
              "    [theme=dark] .colab-df-convert {\n",
              "      background-color: #3B4455;\n",
              "      fill: #D2E3FC;\n",
              "    }\n",
              "\n",
              "    [theme=dark] .colab-df-convert:hover {\n",
              "      background-color: #434B5C;\n",
              "      box-shadow: 0px 1px 3px 1px rgba(0, 0, 0, 0.15);\n",
              "      filter: drop-shadow(0px 1px 2px rgba(0, 0, 0, 0.3));\n",
              "      fill: #FFFFFF;\n",
              "    }\n",
              "  </style>\n",
              "\n",
              "    <script>\n",
              "      const buttonEl =\n",
              "        document.querySelector('#df-ac24b367-d16b-4c10-9396-a98453f22581 button.colab-df-convert');\n",
              "      buttonEl.style.display =\n",
              "        google.colab.kernel.accessAllowed ? 'block' : 'none';\n",
              "\n",
              "      async function convertToInteractive(key) {\n",
              "        const element = document.querySelector('#df-ac24b367-d16b-4c10-9396-a98453f22581');\n",
              "        const dataTable =\n",
              "          await google.colab.kernel.invokeFunction('convertToInteractive',\n",
              "                                                    [key], {});\n",
              "        if (!dataTable) return;\n",
              "\n",
              "        const docLinkHtml = 'Like what you see? Visit the ' +\n",
              "          '<a target=\"_blank\" href=https://colab.research.google.com/notebooks/data_table.ipynb>data table notebook</a>'\n",
              "          + ' to learn more about interactive tables.';\n",
              "        element.innerHTML = '';\n",
              "        dataTable['output_type'] = 'display_data';\n",
              "        await google.colab.output.renderOutput(dataTable, element);\n",
              "        const docLink = document.createElement('div');\n",
              "        docLink.innerHTML = docLinkHtml;\n",
              "        element.appendChild(docLink);\n",
              "      }\n",
              "    </script>\n",
              "  </div>\n",
              "\n",
              "\n",
              "    <div id=\"df-2dd83a5d-e7f3-4c4f-a8c0-c2406c5aa619\">\n",
              "      <button class=\"colab-df-quickchart\" onclick=\"quickchart('df-2dd83a5d-e7f3-4c4f-a8c0-c2406c5aa619')\"\n",
              "                title=\"Suggest charts\"\n",
              "                style=\"display:none;\">\n",
              "\n",
              "<svg xmlns=\"http://www.w3.org/2000/svg\" height=\"24px\"viewBox=\"0 0 24 24\"\n",
              "     width=\"24px\">\n",
              "    <g>\n",
              "        <path d=\"M19 3H5c-1.1 0-2 .9-2 2v14c0 1.1.9 2 2 2h14c1.1 0 2-.9 2-2V5c0-1.1-.9-2-2-2zM9 17H7v-7h2v7zm4 0h-2V7h2v10zm4 0h-2v-4h2v4z\"/>\n",
              "    </g>\n",
              "</svg>\n",
              "      </button>\n",
              "\n",
              "<style>\n",
              "  .colab-df-quickchart {\n",
              "      --bg-color: #E8F0FE;\n",
              "      --fill-color: #1967D2;\n",
              "      --hover-bg-color: #E2EBFA;\n",
              "      --hover-fill-color: #174EA6;\n",
              "      --disabled-fill-color: #AAA;\n",
              "      --disabled-bg-color: #DDD;\n",
              "  }\n",
              "\n",
              "  [theme=dark] .colab-df-quickchart {\n",
              "      --bg-color: #3B4455;\n",
              "      --fill-color: #D2E3FC;\n",
              "      --hover-bg-color: #434B5C;\n",
              "      --hover-fill-color: #FFFFFF;\n",
              "      --disabled-bg-color: #3B4455;\n",
              "      --disabled-fill-color: #666;\n",
              "  }\n",
              "\n",
              "  .colab-df-quickchart {\n",
              "    background-color: var(--bg-color);\n",
              "    border: none;\n",
              "    border-radius: 50%;\n",
              "    cursor: pointer;\n",
              "    display: none;\n",
              "    fill: var(--fill-color);\n",
              "    height: 32px;\n",
              "    padding: 0;\n",
              "    width: 32px;\n",
              "  }\n",
              "\n",
              "  .colab-df-quickchart:hover {\n",
              "    background-color: var(--hover-bg-color);\n",
              "    box-shadow: 0 1px 2px rgba(60, 64, 67, 0.3), 0 1px 3px 1px rgba(60, 64, 67, 0.15);\n",
              "    fill: var(--button-hover-fill-color);\n",
              "  }\n",
              "\n",
              "  .colab-df-quickchart-complete:disabled,\n",
              "  .colab-df-quickchart-complete:disabled:hover {\n",
              "    background-color: var(--disabled-bg-color);\n",
              "    fill: var(--disabled-fill-color);\n",
              "    box-shadow: none;\n",
              "  }\n",
              "\n",
              "  .colab-df-spinner {\n",
              "    border: 2px solid var(--fill-color);\n",
              "    border-color: transparent;\n",
              "    border-bottom-color: var(--fill-color);\n",
              "    animation:\n",
              "      spin 1s steps(1) infinite;\n",
              "  }\n",
              "\n",
              "  @keyframes spin {\n",
              "    0% {\n",
              "      border-color: transparent;\n",
              "      border-bottom-color: var(--fill-color);\n",
              "      border-left-color: var(--fill-color);\n",
              "    }\n",
              "    20% {\n",
              "      border-color: transparent;\n",
              "      border-left-color: var(--fill-color);\n",
              "      border-top-color: var(--fill-color);\n",
              "    }\n",
              "    30% {\n",
              "      border-color: transparent;\n",
              "      border-left-color: var(--fill-color);\n",
              "      border-top-color: var(--fill-color);\n",
              "      border-right-color: var(--fill-color);\n",
              "    }\n",
              "    40% {\n",
              "      border-color: transparent;\n",
              "      border-right-color: var(--fill-color);\n",
              "      border-top-color: var(--fill-color);\n",
              "    }\n",
              "    60% {\n",
              "      border-color: transparent;\n",
              "      border-right-color: var(--fill-color);\n",
              "    }\n",
              "    80% {\n",
              "      border-color: transparent;\n",
              "      border-right-color: var(--fill-color);\n",
              "      border-bottom-color: var(--fill-color);\n",
              "    }\n",
              "    90% {\n",
              "      border-color: transparent;\n",
              "      border-bottom-color: var(--fill-color);\n",
              "    }\n",
              "  }\n",
              "</style>\n",
              "\n",
              "      <script>\n",
              "        async function quickchart(key) {\n",
              "          const quickchartButtonEl =\n",
              "            document.querySelector('#' + key + ' button');\n",
              "          quickchartButtonEl.disabled = true;  // To prevent multiple clicks.\n",
              "          quickchartButtonEl.classList.add('colab-df-spinner');\n",
              "          try {\n",
              "            const charts = await google.colab.kernel.invokeFunction(\n",
              "                'suggestCharts', [key], {});\n",
              "          } catch (error) {\n",
              "            console.error('Error during call to suggestCharts:', error);\n",
              "          }\n",
              "          quickchartButtonEl.classList.remove('colab-df-spinner');\n",
              "          quickchartButtonEl.classList.add('colab-df-quickchart-complete');\n",
              "        }\n",
              "        (() => {\n",
              "          let quickchartButtonEl =\n",
              "            document.querySelector('#df-2dd83a5d-e7f3-4c4f-a8c0-c2406c5aa619 button');\n",
              "          quickchartButtonEl.style.display =\n",
              "            google.colab.kernel.accessAllowed ? 'block' : 'none';\n",
              "        })();\n",
              "      </script>\n",
              "    </div>\n",
              "\n",
              "    </div>\n",
              "  </div>\n"
            ],
            "application/vnd.google.colaboratory.intrinsic+json": {
              "type": "dataframe",
              "summary": "{\n  \"name\": \"df\",\n  \"rows\": 4,\n  \"fields\": [\n    {\n      \"column\": \"Duration\",\n      \"properties\": {\n        \"dtype\": \"number\",\n        \"std\": 0.6017173727785198,\n        \"min\": -0.15540813258059757,\n        \"max\": 1.0,\n        \"num_unique_values\": 4,\n        \"samples\": [\n          -0.15540813258059757,\n          0.9224252250707082,\n          1.0\n        ],\n        \"semantic_type\": \"\",\n        \"description\": \"\"\n      }\n    },\n    {\n      \"column\": \"Pulse\",\n      \"properties\": {\n        \"dtype\": \"number\",\n        \"std\": 0.5640742990241221,\n        \"min\": -0.15540813258059757,\n        \"max\": 1.0,\n        \"num_unique_values\": 4,\n        \"samples\": [\n          1.0,\n          0.02911011249784568,\n          -0.15540813258059757\n        ],\n        \"semantic_type\": \"\",\n        \"description\": \"\"\n      }\n    },\n    {\n      \"column\": \"Maxpulse\",\n      \"properties\": {\n        \"dtype\": \"number\",\n        \"std\": 0.4687611534662078,\n        \"min\": 0.009402912085577832,\n        \"max\": 1.0,\n        \"num_unique_values\": 4,\n        \"samples\": [\n          0.7865346759989701,\n          0.20601974290250188,\n          0.009402912085577832\n        ],\n        \"semantic_type\": \"\",\n        \"description\": \"\"\n      }\n    },\n    {\n      \"column\": \"Calories\",\n      \"properties\": {\n        \"dtype\": \"number\",\n        \"std\": 0.49342302596095,\n        \"min\": 0.02911011249784568,\n        \"max\": 1.0,\n        \"num_unique_values\": 4,\n        \"samples\": [\n          0.02911011249784568,\n          1.0,\n          0.9224252250707082\n        ],\n        \"semantic_type\": \"\",\n        \"description\": \"\"\n      }\n    }\n  ]\n}"
            }
          },
          "metadata": {},
          "execution_count": 17
        }
      ]
    },
    {
      "cell_type": "markdown",
      "source": [
        "#Note: The corr() method ignores \"not numeric\" columns."
      ],
      "metadata": {
        "id": "8FQSCtaXM30a"
      }
    },
    {
      "cell_type": "markdown",
      "source": [
        "#Result Explained\n",
        "##The Result of the corr() method is a table with a lot of numbers that represents how well the relationship is between two columns.\n",
        "\n",
        "##The number varies from -1 to 1.\n",
        "\n",
        "##1 means that there is a 1 to 1 relationship (a perfect correlation), and for this data set, each time a value went up in the first column, the other one went up as well.\n",
        "\n",
        "##0.9 is also a good relationship, and if you increase one value, the other will probably increase as well.\n",
        "\n",
        "##-0.9 would be just as good relationship as 0.9, but if you increase one value, the other will probably go down.\n",
        "\n",
        "##0.2 means NOT a good relationship, meaning that if one value goes up does not mean that the other will."
      ],
      "metadata": {
        "id": "541fPy8LM8K1"
      }
    },
    {
      "cell_type": "markdown",
      "source": [
        "#Difference between Pandas VS NumPy"
      ],
      "metadata": {
        "id": "xePauTTENj9y"
      }
    },
    {
      "cell_type": "markdown",
      "source": [
        "![Di.JPG](data:image/jpeg;base64,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)"
      ],
      "metadata": {
        "id": "aw_kIyDGOH3k"
      }
    },
    {
      "cell_type": "markdown",
      "source": [
        "#Descriptive Statistic\n",
        "##Statistics is the foundation of data science. Descriptive statistics are simple tools that help us understand and summarize data. They show the basic features of a dataset, like the average, highest and lowest values and how spread out the numbers are. It's the first step in making sense of information."
      ],
      "metadata": {
        "id": "CFjlJQ_RONCg"
      }
    },
    {
      "cell_type": "markdown",
      "source": [
        "![Statstics.JPG](data:image/jpeg;base64,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)"
      ],
      "metadata": {
        "id": "zRaNew_oOqWb"
      }
    },
    {
      "cell_type": "markdown",
      "source": [
        "#1. Measures of Central Tendency\n",
        "##Statistical values that describe the central position within a dataset. There are three main measures of central tendency:"
      ],
      "metadata": {
        "id": "m56v9E0TOr2l"
      }
    },
    {
      "cell_type": "markdown",
      "source": [
        "![image.png](data:image/png;base64,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)"
      ],
      "metadata": {
        "id": "qsGfxvSKO3tL"
      }
    },
    {
      "cell_type": "markdown",
      "source": [
        "![Mean.JPG](data:image/jpeg;base64,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)"
      ],
      "metadata": {
        "id": "aDsR_plXO4de"
      }
    },
    {
      "cell_type": "code",
      "source": [
        "import numpy as np\n",
        "\n",
        "# Sample Data\n",
        "arr = [5, 6, 11]\n",
        "\n",
        "# Mean\n",
        "mean = np.mean(arr)\n",
        "\n",
        "print(\"Mean = \", mean)"
      ],
      "metadata": {
        "colab": {
          "base_uri": "https://localhost:8080/"
        },
        "id": "UQELuhPjPDqy",
        "outputId": "94aa0fe2-5149-4049-e170-4dd6bb4e32dc"
      },
      "execution_count": null,
      "outputs": [
        {
          "output_type": "stream",
          "name": "stdout",
          "text": [
            "Mean =  7.333333333333333\n"
          ]
        }
      ]
    },
    {
      "cell_type": "markdown",
      "source": [
        "#Mode: The most frequently occurring value in the dataset. It’s useful for categorical data and in cases where knowing the most common choice is crucial.\n",
        "\n",
        "\n",
        "\n",
        "\n"
      ],
      "metadata": {
        "id": "zSrr5wJEPMte"
      }
    },
    {
      "cell_type": "code",
      "source": [
        "import scipy.stats as stats\n",
        "\n",
        "# sample Data\n",
        "arr = [1, 2, 2, 3]\n",
        "\n",
        "# Mode\n",
        "mode = stats.mode(arr)\n",
        "print(\"Mode = \", mode)"
      ],
      "metadata": {
        "colab": {
          "base_uri": "https://localhost:8080/"
        },
        "id": "jNWJ2FzpPQJ9",
        "outputId": "b9d38587-790e-46b4-b13a-d51dcf251c92"
      },
      "execution_count": null,
      "outputs": [
        {
          "output_type": "stream",
          "name": "stdout",
          "text": [
            "Mode =  ModeResult(mode=np.int64(2), count=np.int64(2))\n"
          ]
        }
      ]
    },
    {
      "cell_type": "markdown",
      "source": [
        "#Median: The median is the middle value in a sorted dataset. If the number of values is odd, it's the center value, if even, it's the average of the two middle values. It's often better than the mean for skewed data."
      ],
      "metadata": {
        "id": "GB09dgD2PUja"
      }
    },
    {
      "cell_type": "code",
      "source": [
        "import numpy as np\n",
        "\n",
        "# sample Data\n",
        "arr = [1, 2, 3, 4]\n",
        "\n",
        "# Median\n",
        "median = np.median(arr)\n",
        "\n",
        "print(\"Median = \", median)"
      ],
      "metadata": {
        "colab": {
          "base_uri": "https://localhost:8080/"
        },
        "id": "ntFqbCjvM6O8",
        "outputId": "7cb498b1-1142-4e35-db06-4f0d6b18b521"
      },
      "execution_count": null,
      "outputs": [
        {
          "output_type": "stream",
          "name": "stdout",
          "text": [
            "Median =  2.5\n"
          ]
        }
      ]
    },
    {
      "cell_type": "markdown",
      "source": [
        "#2. Measure of Variability\n",
        "##Knowing not just where the data centers but also how it spreads out is important. Measures of variability, also called measures of dispersion, help us spot the spread or distribution of observations in a dataset. They identifying outliers, assessing model assumptions and understanding data variability in relation to its mean."
      ],
      "metadata": {
        "id": "LF3wM_tlPjw6"
      }
    },
    {
      "cell_type": "markdown",
      "source": [
        "##The key measures of variability include:\n",
        "\n",
        "##1. Range : describes the difference between the largest and smallest data point in our data set. The bigger the range, the more the spread of data and vice versa. While easy to compute range is sensitive to outliers. This measure can provide a quick sense of the data spread but should be complemented with other statistics."
      ],
      "metadata": {
        "id": "5CrrRWGXPpY1"
      }
    },
    {
      "cell_type": "markdown",
      "source": [
        "#Range = Largest data value - smallest data value"
      ],
      "metadata": {
        "id": "zc66vK5NQe1T"
      }
    },
    {
      "cell_type": "code",
      "source": [
        "import numpy as np\n",
        "\n",
        "# Sample Data\n",
        "arr = [1, 2, 3, 4, 5]\n",
        "\n",
        "# Finding Max\n",
        "Maximum = max(arr)\n",
        "# Finding Min\n",
        "Minimum = min(arr)\n",
        "\n",
        "# Difference Of Max and Min\n",
        "Range = Maximum-Minimum\n",
        "print(\"Maximum = {}, Minimum = {} and Range = {}\".format(\n",
        "    Maximum, Minimum, Range))"
      ],
      "metadata": {
        "colab": {
          "base_uri": "https://localhost:8080/"
        },
        "id": "t-MRUPslQhnS",
        "outputId": "14a8d0fd-5ed7-451f-f0ff-98a246966bd2"
      },
      "execution_count": null,
      "outputs": [
        {
          "output_type": "stream",
          "name": "stdout",
          "text": [
            "Maximum = 5, Minimum = 1 and Range = 4\n"
          ]
        }
      ]
    },
    {
      "cell_type": "markdown",
      "source": [
        "#2. Variance: is defined as an average squared deviation from the mean. It is calculated by finding the difference between every data point and the average which is also known as the mean, squaring them, adding all of them and then dividing by the number of data points present in our data set."
      ],
      "metadata": {
        "id": "gz_TBrwpQlub"
      }
    },
    {
      "cell_type": "markdown",
      "source": [
        "![variance.JPG](data:image/jpeg;base64,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)"
      ],
      "metadata": {
        "id": "HJr0NyfFQvgc"
      }
    },
    {
      "cell_type": "code",
      "source": [
        "import statistics\n",
        "\n",
        "# sample data\n",
        "arr = [1, 2, 3, 4, 5]\n",
        "# variance\n",
        "print(\"Var = \", (statistics.variance(arr)))"
      ],
      "metadata": {
        "colab": {
          "base_uri": "https://localhost:8080/"
        },
        "id": "_7_YpodiQz2i",
        "outputId": "94598318-3053-4b42-926b-56db843e0dfe"
      },
      "execution_count": null,
      "outputs": [
        {
          "output_type": "stream",
          "name": "stdout",
          "text": [
            "Var =  2.5\n"
          ]
        }
      ]
    },
    {
      "cell_type": "markdown",
      "source": [
        "![SD.JPG](data:image/jpeg;base64,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)"
      ],
      "metadata": {
        "id": "yFZOO65eRAu6"
      }
    },
    {
      "cell_type": "code",
      "source": [
        "import statistics\n",
        "arr = [1, 2, 3, 4, 5]\n",
        "print(\"Std = \", (statistics.stdev(arr)))"
      ],
      "metadata": {
        "colab": {
          "base_uri": "https://localhost:8080/"
        },
        "id": "lNA8NSCCRFHE",
        "outputId": "da6c7f0d-e145-47af-aa3b-e24f8e034c74"
      },
      "execution_count": null,
      "outputs": [
        {
          "output_type": "stream",
          "name": "stdout",
          "text": [
            "Std =  1.5811388300841898\n"
          ]
        }
      ]
    },
    {
      "cell_type": "markdown",
      "source": [],
      "metadata": {
        "id": "o5ty8OglRCgs"
      }
    },
    {
      "cell_type": "markdown",
      "source": [],
      "metadata": {
        "id": "MmQXNgd-QxC_"
      }
    },
    {
      "cell_type": "markdown",
      "source": [
        "#Grouping and Aggregating with Pandas"
      ],
      "metadata": {
        "id": "G-GF3qhQSDYs"
      }
    },
    {
      "cell_type": "markdown",
      "source": [
        "#Aggregation in Pandas\n",
        "##Aggregation means applying a mathematical function to summarize data. It can be used to get a summary of columns in our dataset like getting sum, minimum, maximum etc. from a particular column of our dataset. The function used for aggregation is agg() the parameter is the function we want to perform. Some functions used in the aggregation are:"
      ],
      "metadata": {
        "id": "4ZWA3braSHcW"
      }
    },
    {
      "cell_type": "markdown",
      "source": [
        "#Function\tDescription\n",
        "##sum()\tCompute sum of column values\n",
        "##min()\tCompute min of column values\n",
        "##max()\tCompute max of column values\n",
        "##mean()\tCompute mean of column\n",
        "##size()\tCompute column sizes\n",
        "##describe()\tGenerates descriptive statistics\n",
        "##first()\tCompute first of group values\n",
        "##last()\tCompute last of group values\n",
        "##count()\tCompute count of column values\n",
        "##std()\tStandard deviation of column\n",
        "##var()\tCompute variance of column\n",
        "##sem()\tStandard error of the mean of column"
      ],
      "metadata": {
        "id": "MeSKiWCUSRC0"
      }
    },
    {
      "cell_type": "markdown",
      "source": [
        "##Creating a Sample Dataset\n",
        "##Let's create a small dataset of student marks in Maths, English, Science and History."
      ],
      "metadata": {
        "id": "M0ECQHkqSb81"
      }
    },
    {
      "cell_type": "code",
      "source": [
        "import pandas as pd\n",
        "\n",
        "df = pd.DataFrame([[9, 4, 8, 9],\n",
        "                   [8, 10, 7, 6],\n",
        "                   [7, 6, 8, 5]],\n",
        "                  columns=['Maths',  'English',\n",
        "                           'Science', 'History'])\n",
        "\n",
        "print(df)"
      ],
      "metadata": {
        "colab": {
          "base_uri": "https://localhost:8080/"
        },
        "id": "8uUgnITPSfHy",
        "outputId": "e5e6eef3-2b98-4e1d-c17a-6831c4df7cb1"
      },
      "execution_count": null,
      "outputs": [
        {
          "output_type": "stream",
          "name": "stdout",
          "text": [
            "   Maths  English  Science  History\n",
            "0      9        4        8        9\n",
            "1      8       10        7        6\n",
            "2      7        6        8        5\n"
          ]
        }
      ]
    },
    {
      "cell_type": "markdown",
      "source": [
        "##1. Summing Up All Values (sum())\n",
        "The sum() function adds up all values in each column.\n",
        "\n"
      ],
      "metadata": {
        "id": "N_sk3Ga5SiGa"
      }
    },
    {
      "cell_type": "code",
      "source": [
        "\n",
        "df.sum()"
      ],
      "metadata": {
        "colab": {
          "base_uri": "https://localhost:8080/",
          "height": 209
        },
        "id": "UkcdPaD8Sj8q",
        "outputId": "7591fc68-ae88-478e-8e68-79e3ea5c10f8"
      },
      "execution_count": null,
      "outputs": [
        {
          "output_type": "execute_result",
          "data": {
            "text/plain": [
              "Maths      24\n",
              "English    20\n",
              "Science    23\n",
              "History    20\n",
              "dtype: int64"
            ],
            "text/html": [
              "<div>\n",
              "<style scoped>\n",
              "    .dataframe tbody tr th:only-of-type {\n",
              "        vertical-align: middle;\n",
              "    }\n",
              "\n",
              "    .dataframe tbody tr th {\n",
              "        vertical-align: top;\n",
              "    }\n",
              "\n",
              "    .dataframe thead th {\n",
              "        text-align: right;\n",
              "    }\n",
              "</style>\n",
              "<table border=\"1\" class=\"dataframe\">\n",
              "  <thead>\n",
              "    <tr style=\"text-align: right;\">\n",
              "      <th></th>\n",
              "      <th>0</th>\n",
              "    </tr>\n",
              "  </thead>\n",
              "  <tbody>\n",
              "    <tr>\n",
              "      <th>Maths</th>\n",
              "      <td>24</td>\n",
              "    </tr>\n",
              "    <tr>\n",
              "      <th>English</th>\n",
              "      <td>20</td>\n",
              "    </tr>\n",
              "    <tr>\n",
              "      <th>Science</th>\n",
              "      <td>23</td>\n",
              "    </tr>\n",
              "    <tr>\n",
              "      <th>History</th>\n",
              "      <td>20</td>\n",
              "    </tr>\n",
              "  </tbody>\n",
              "</table>\n",
              "</div><br><label><b>dtype:</b> int64</label>"
            ]
          },
          "metadata": {},
          "execution_count": 25
        }
      ]
    },
    {
      "cell_type": "markdown",
      "source": [
        "#2. Getting a Summary (describe())\n",
        "##Instead of calculating sum, mean, min and max separately we can use describe() which provides all important statistics in one go."
      ],
      "metadata": {
        "id": "c7Ao1VFuSnnq"
      }
    },
    {
      "cell_type": "code",
      "source": [
        "df.describe()"
      ],
      "metadata": {
        "colab": {
          "base_uri": "https://localhost:8080/",
          "height": 300
        },
        "id": "SB5_cAW7S3KT",
        "outputId": "4022b913-0928-48d7-f809-868c61c2c78e"
      },
      "execution_count": null,
      "outputs": [
        {
          "output_type": "execute_result",
          "data": {
            "text/plain": [
              "       Maths    English   Science   History\n",
              "count    3.0   3.000000  3.000000  3.000000\n",
              "mean     8.0   6.666667  7.666667  6.666667\n",
              "std      1.0   3.055050  0.577350  2.081666\n",
              "min      7.0   4.000000  7.000000  5.000000\n",
              "25%      7.5   5.000000  7.500000  5.500000\n",
              "50%      8.0   6.000000  8.000000  6.000000\n",
              "75%      8.5   8.000000  8.000000  7.500000\n",
              "max      9.0  10.000000  8.000000  9.000000"
            ],
            "text/html": [
              "\n",
              "  <div id=\"df-7215d347-7600-4e83-a96c-84d237365c96\" class=\"colab-df-container\">\n",
              "    <div>\n",
              "<style scoped>\n",
              "    .dataframe tbody tr th:only-of-type {\n",
              "        vertical-align: middle;\n",
              "    }\n",
              "\n",
              "    .dataframe tbody tr th {\n",
              "        vertical-align: top;\n",
              "    }\n",
              "\n",
              "    .dataframe thead th {\n",
              "        text-align: right;\n",
              "    }\n",
              "</style>\n",
              "<table border=\"1\" class=\"dataframe\">\n",
              "  <thead>\n",
              "    <tr style=\"text-align: right;\">\n",
              "      <th></th>\n",
              "      <th>Maths</th>\n",
              "      <th>English</th>\n",
              "      <th>Science</th>\n",
              "      <th>History</th>\n",
              "    </tr>\n",
              "  </thead>\n",
              "  <tbody>\n",
              "    <tr>\n",
              "      <th>count</th>\n",
              "      <td>3.0</td>\n",
              "      <td>3.000000</td>\n",
              "      <td>3.000000</td>\n",
              "      <td>3.000000</td>\n",
              "    </tr>\n",
              "    <tr>\n",
              "      <th>mean</th>\n",
              "      <td>8.0</td>\n",
              "      <td>6.666667</td>\n",
              "      <td>7.666667</td>\n",
              "      <td>6.666667</td>\n",
              "    </tr>\n",
              "    <tr>\n",
              "      <th>std</th>\n",
              "      <td>1.0</td>\n",
              "      <td>3.055050</td>\n",
              "      <td>0.577350</td>\n",
              "      <td>2.081666</td>\n",
              "    </tr>\n",
              "    <tr>\n",
              "      <th>min</th>\n",
              "      <td>7.0</td>\n",
              "      <td>4.000000</td>\n",
              "      <td>7.000000</td>\n",
              "      <td>5.000000</td>\n",
              "    </tr>\n",
              "    <tr>\n",
              "      <th>25%</th>\n",
              "      <td>7.5</td>\n",
              "      <td>5.000000</td>\n",
              "      <td>7.500000</td>\n",
              "      <td>5.500000</td>\n",
              "    </tr>\n",
              "    <tr>\n",
              "      <th>50%</th>\n",
              "      <td>8.0</td>\n",
              "      <td>6.000000</td>\n",
              "      <td>8.000000</td>\n",
              "      <td>6.000000</td>\n",
              "    </tr>\n",
              "    <tr>\n",
              "      <th>75%</th>\n",
              "      <td>8.5</td>\n",
              "      <td>8.000000</td>\n",
              "      <td>8.000000</td>\n",
              "      <td>7.500000</td>\n",
              "    </tr>\n",
              "    <tr>\n",
              "      <th>max</th>\n",
              "      <td>9.0</td>\n",
              "      <td>10.000000</td>\n",
              "      <td>8.000000</td>\n",
              "      <td>9.000000</td>\n",
              "    </tr>\n",
              "  </tbody>\n",
              "</table>\n",
              "</div>\n",
              "    <div class=\"colab-df-buttons\">\n",
              "\n",
              "  <div class=\"colab-df-container\">\n",
              "    <button class=\"colab-df-convert\" onclick=\"convertToInteractive('df-7215d347-7600-4e83-a96c-84d237365c96')\"\n",
              "            title=\"Convert this dataframe to an interactive table.\"\n",
              "            style=\"display:none;\">\n",
              "\n",
              "  <svg xmlns=\"http://www.w3.org/2000/svg\" height=\"24px\" viewBox=\"0 -960 960 960\">\n",
              "    <path d=\"M120-120v-720h720v720H120Zm60-500h600v-160H180v160Zm220 220h160v-160H400v160Zm0 220h160v-160H400v160ZM180-400h160v-160H180v160Zm440 0h160v-160H620v160ZM180-180h160v-160H180v160Zm440 0h160v-160H620v160Z\"/>\n",
              "  </svg>\n",
              "    </button>\n",
              "\n",
              "  <style>\n",
              "    .colab-df-container {\n",
              "      display:flex;\n",
              "      gap: 12px;\n",
              "    }\n",
              "\n",
              "    .colab-df-convert {\n",
              "      background-color: #E8F0FE;\n",
              "      border: none;\n",
              "      border-radius: 50%;\n",
              "      cursor: pointer;\n",
              "      display: none;\n",
              "      fill: #1967D2;\n",
              "      height: 32px;\n",
              "      padding: 0 0 0 0;\n",
              "      width: 32px;\n",
              "    }\n",
              "\n",
              "    .colab-df-convert:hover {\n",
              "      background-color: #E2EBFA;\n",
              "      box-shadow: 0px 1px 2px rgba(60, 64, 67, 0.3), 0px 1px 3px 1px rgba(60, 64, 67, 0.15);\n",
              "      fill: #174EA6;\n",
              "    }\n",
              "\n",
              "    .colab-df-buttons div {\n",
              "      margin-bottom: 4px;\n",
              "    }\n",
              "\n",
              "    [theme=dark] .colab-df-convert {\n",
              "      background-color: #3B4455;\n",
              "      fill: #D2E3FC;\n",
              "    }\n",
              "\n",
              "    [theme=dark] .colab-df-convert:hover {\n",
              "      background-color: #434B5C;\n",
              "      box-shadow: 0px 1px 3px 1px rgba(0, 0, 0, 0.15);\n",
              "      filter: drop-shadow(0px 1px 2px rgba(0, 0, 0, 0.3));\n",
              "      fill: #FFFFFF;\n",
              "    }\n",
              "  </style>\n",
              "\n",
              "    <script>\n",
              "      const buttonEl =\n",
              "        document.querySelector('#df-7215d347-7600-4e83-a96c-84d237365c96 button.colab-df-convert');\n",
              "      buttonEl.style.display =\n",
              "        google.colab.kernel.accessAllowed ? 'block' : 'none';\n",
              "\n",
              "      async function convertToInteractive(key) {\n",
              "        const element = document.querySelector('#df-7215d347-7600-4e83-a96c-84d237365c96');\n",
              "        const dataTable =\n",
              "          await google.colab.kernel.invokeFunction('convertToInteractive',\n",
              "                                                    [key], {});\n",
              "        if (!dataTable) return;\n",
              "\n",
              "        const docLinkHtml = 'Like what you see? Visit the ' +\n",
              "          '<a target=\"_blank\" href=https://colab.research.google.com/notebooks/data_table.ipynb>data table notebook</a>'\n",
              "          + ' to learn more about interactive tables.';\n",
              "        element.innerHTML = '';\n",
              "        dataTable['output_type'] = 'display_data';\n",
              "        await google.colab.output.renderOutput(dataTable, element);\n",
              "        const docLink = document.createElement('div');\n",
              "        docLink.innerHTML = docLinkHtml;\n",
              "        element.appendChild(docLink);\n",
              "      }\n",
              "    </script>\n",
              "  </div>\n",
              "\n",
              "\n",
              "    <div id=\"df-84d05db8-ff51-43b6-bfbe-97b08faf6fa6\">\n",
              "      <button class=\"colab-df-quickchart\" onclick=\"quickchart('df-84d05db8-ff51-43b6-bfbe-97b08faf6fa6')\"\n",
              "                title=\"Suggest charts\"\n",
              "                style=\"display:none;\">\n",
              "\n",
              "<svg xmlns=\"http://www.w3.org/2000/svg\" height=\"24px\"viewBox=\"0 0 24 24\"\n",
              "     width=\"24px\">\n",
              "    <g>\n",
              "        <path d=\"M19 3H5c-1.1 0-2 .9-2 2v14c0 1.1.9 2 2 2h14c1.1 0 2-.9 2-2V5c0-1.1-.9-2-2-2zM9 17H7v-7h2v7zm4 0h-2V7h2v10zm4 0h-2v-4h2v4z\"/>\n",
              "    </g>\n",
              "</svg>\n",
              "      </button>\n",
              "\n",
              "<style>\n",
              "  .colab-df-quickchart {\n",
              "      --bg-color: #E8F0FE;\n",
              "      --fill-color: #1967D2;\n",
              "      --hover-bg-color: #E2EBFA;\n",
              "      --hover-fill-color: #174EA6;\n",
              "      --disabled-fill-color: #AAA;\n",
              "      --disabled-bg-color: #DDD;\n",
              "  }\n",
              "\n",
              "  [theme=dark] .colab-df-quickchart {\n",
              "      --bg-color: #3B4455;\n",
              "      --fill-color: #D2E3FC;\n",
              "      --hover-bg-color: #434B5C;\n",
              "      --hover-fill-color: #FFFFFF;\n",
              "      --disabled-bg-color: #3B4455;\n",
              "      --disabled-fill-color: #666;\n",
              "  }\n",
              "\n",
              "  .colab-df-quickchart {\n",
              "    background-color: var(--bg-color);\n",
              "    border: none;\n",
              "    border-radius: 50%;\n",
              "    cursor: pointer;\n",
              "    display: none;\n",
              "    fill: var(--fill-color);\n",
              "    height: 32px;\n",
              "    padding: 0;\n",
              "    width: 32px;\n",
              "  }\n",
              "\n",
              "  .colab-df-quickchart:hover {\n",
              "    background-color: var(--hover-bg-color);\n",
              "    box-shadow: 0 1px 2px rgba(60, 64, 67, 0.3), 0 1px 3px 1px rgba(60, 64, 67, 0.15);\n",
              "    fill: var(--button-hover-fill-color);\n",
              "  }\n",
              "\n",
              "  .colab-df-quickchart-complete:disabled,\n",
              "  .colab-df-quickchart-complete:disabled:hover {\n",
              "    background-color: var(--disabled-bg-color);\n",
              "    fill: var(--disabled-fill-color);\n",
              "    box-shadow: none;\n",
              "  }\n",
              "\n",
              "  .colab-df-spinner {\n",
              "    border: 2px solid var(--fill-color);\n",
              "    border-color: transparent;\n",
              "    border-bottom-color: var(--fill-color);\n",
              "    animation:\n",
              "      spin 1s steps(1) infinite;\n",
              "  }\n",
              "\n",
              "  @keyframes spin {\n",
              "    0% {\n",
              "      border-color: transparent;\n",
              "      border-bottom-color: var(--fill-color);\n",
              "      border-left-color: var(--fill-color);\n",
              "    }\n",
              "    20% {\n",
              "      border-color: transparent;\n",
              "      border-left-color: var(--fill-color);\n",
              "      border-top-color: var(--fill-color);\n",
              "    }\n",
              "    30% {\n",
              "      border-color: transparent;\n",
              "      border-left-color: var(--fill-color);\n",
              "      border-top-color: var(--fill-color);\n",
              "      border-right-color: var(--fill-color);\n",
              "    }\n",
              "    40% {\n",
              "      border-color: transparent;\n",
              "      border-right-color: var(--fill-color);\n",
              "      border-top-color: var(--fill-color);\n",
              "    }\n",
              "    60% {\n",
              "      border-color: transparent;\n",
              "      border-right-color: var(--fill-color);\n",
              "    }\n",
              "    80% {\n",
              "      border-color: transparent;\n",
              "      border-right-color: var(--fill-color);\n",
              "      border-bottom-color: var(--fill-color);\n",
              "    }\n",
              "    90% {\n",
              "      border-color: transparent;\n",
              "      border-bottom-color: var(--fill-color);\n",
              "    }\n",
              "  }\n",
              "</style>\n",
              "\n",
              "      <script>\n",
              "        async function quickchart(key) {\n",
              "          const quickchartButtonEl =\n",
              "            document.querySelector('#' + key + ' button');\n",
              "          quickchartButtonEl.disabled = true;  // To prevent multiple clicks.\n",
              "          quickchartButtonEl.classList.add('colab-df-spinner');\n",
              "          try {\n",
              "            const charts = await google.colab.kernel.invokeFunction(\n",
              "                'suggestCharts', [key], {});\n",
              "          } catch (error) {\n",
              "            console.error('Error during call to suggestCharts:', error);\n",
              "          }\n",
              "          quickchartButtonEl.classList.remove('colab-df-spinner');\n",
              "          quickchartButtonEl.classList.add('colab-df-quickchart-complete');\n",
              "        }\n",
              "        (() => {\n",
              "          let quickchartButtonEl =\n",
              "            document.querySelector('#df-84d05db8-ff51-43b6-bfbe-97b08faf6fa6 button');\n",
              "          quickchartButtonEl.style.display =\n",
              "            google.colab.kernel.accessAllowed ? 'block' : 'none';\n",
              "        })();\n",
              "      </script>\n",
              "    </div>\n",
              "\n",
              "    </div>\n",
              "  </div>\n"
            ],
            "application/vnd.google.colaboratory.intrinsic+json": {
              "type": "dataframe",
              "summary": "{\n  \"name\": \"df\",\n  \"rows\": 8,\n  \"fields\": [\n    {\n      \"column\": \"Maths\",\n      \"properties\": {\n        \"dtype\": \"number\",\n        \"std\": 2.8908723349782948,\n        \"min\": 1.0,\n        \"max\": 9.0,\n        \"num_unique_values\": 7,\n        \"samples\": [\n          3.0,\n          8.0,\n          8.5\n        ],\n        \"semantic_type\": \"\",\n        \"description\": \"\"\n      }\n    },\n    {\n      \"column\": \"English\",\n      \"properties\": {\n        \"dtype\": \"number\",\n        \"std\": 2.4631092607761134,\n        \"min\": 3.0,\n        \"max\": 10.0,\n        \"num_unique_values\": 8,\n        \"samples\": [\n          6.666666666666667,\n          6.0,\n          3.0\n        ],\n        \"semantic_type\": \"\",\n        \"description\": \"\"\n      }\n    },\n    {\n      \"column\": \"Science\",\n      \"properties\": {\n        \"dtype\": \"number\",\n        \"std\": 2.829757902233395,\n        \"min\": 0.5773502691896258,\n        \"max\": 8.0,\n        \"num_unique_values\": 6,\n        \"samples\": [\n          3.0,\n          7.666666666666667,\n          8.0\n        ],\n        \"semantic_type\": \"\",\n        \"description\": \"\"\n      }\n    },\n    {\n      \"column\": \"History\",\n      \"properties\": {\n        \"dtype\": \"number\",\n        \"std\": 2.267034508147367,\n        \"min\": 2.0816659994661326,\n        \"max\": 9.0,\n        \"num_unique_values\": 8,\n        \"samples\": [\n          6.666666666666667,\n          6.0,\n          3.0\n        ],\n        \"semantic_type\": \"\",\n        \"description\": \"\"\n      }\n    }\n  ]\n}"
            }
          },
          "metadata": {},
          "execution_count": 26
        }
      ]
    },
    {
      "cell_type": "markdown",
      "source": [
        "#3. Applying Multiple Aggregations at Once (agg())\n",
        "##The .agg() function lets you apply multiple aggregation functions at the same time."
      ],
      "metadata": {
        "id": "gfk22LNXS5_j"
      }
    },
    {
      "cell_type": "code",
      "source": [
        "df.agg(['sum', 'min', 'max'])"
      ],
      "metadata": {
        "colab": {
          "base_uri": "https://localhost:8080/",
          "height": 143
        },
        "id": "M10F4JMwS9Os",
        "outputId": "0b10fca0-e9f6-465e-9e4e-6cb8463e1d20"
      },
      "execution_count": null,
      "outputs": [
        {
          "output_type": "execute_result",
          "data": {
            "text/plain": [
              "     Maths  English  Science  History\n",
              "sum     24       20       23       20\n",
              "min      7        4        7        5\n",
              "max      9       10        8        9"
            ],
            "text/html": [
              "\n",
              "  <div id=\"df-35548f16-0a0e-4ade-a41c-22857ef43ce3\" class=\"colab-df-container\">\n",
              "    <div>\n",
              "<style scoped>\n",
              "    .dataframe tbody tr th:only-of-type {\n",
              "        vertical-align: middle;\n",
              "    }\n",
              "\n",
              "    .dataframe tbody tr th {\n",
              "        vertical-align: top;\n",
              "    }\n",
              "\n",
              "    .dataframe thead th {\n",
              "        text-align: right;\n",
              "    }\n",
              "</style>\n",
              "<table border=\"1\" class=\"dataframe\">\n",
              "  <thead>\n",
              "    <tr style=\"text-align: right;\">\n",
              "      <th></th>\n",
              "      <th>Maths</th>\n",
              "      <th>English</th>\n",
              "      <th>Science</th>\n",
              "      <th>History</th>\n",
              "    </tr>\n",
              "  </thead>\n",
              "  <tbody>\n",
              "    <tr>\n",
              "      <th>sum</th>\n",
              "      <td>24</td>\n",
              "      <td>20</td>\n",
              "      <td>23</td>\n",
              "      <td>20</td>\n",
              "    </tr>\n",
              "    <tr>\n",
              "      <th>min</th>\n",
              "      <td>7</td>\n",
              "      <td>4</td>\n",
              "      <td>7</td>\n",
              "      <td>5</td>\n",
              "    </tr>\n",
              "    <tr>\n",
              "      <th>max</th>\n",
              "      <td>9</td>\n",
              "      <td>10</td>\n",
              "      <td>8</td>\n",
              "      <td>9</td>\n",
              "    </tr>\n",
              "  </tbody>\n",
              "</table>\n",
              "</div>\n",
              "    <div class=\"colab-df-buttons\">\n",
              "\n",
              "  <div class=\"colab-df-container\">\n",
              "    <button class=\"colab-df-convert\" onclick=\"convertToInteractive('df-35548f16-0a0e-4ade-a41c-22857ef43ce3')\"\n",
              "            title=\"Convert this dataframe to an interactive table.\"\n",
              "            style=\"display:none;\">\n",
              "\n",
              "  <svg xmlns=\"http://www.w3.org/2000/svg\" height=\"24px\" viewBox=\"0 -960 960 960\">\n",
              "    <path d=\"M120-120v-720h720v720H120Zm60-500h600v-160H180v160Zm220 220h160v-160H400v160Zm0 220h160v-160H400v160ZM180-400h160v-160H180v160Zm440 0h160v-160H620v160ZM180-180h160v-160H180v160Zm440 0h160v-160H620v160Z\"/>\n",
              "  </svg>\n",
              "    </button>\n",
              "\n",
              "  <style>\n",
              "    .colab-df-container {\n",
              "      display:flex;\n",
              "      gap: 12px;\n",
              "    }\n",
              "\n",
              "    .colab-df-convert {\n",
              "      background-color: #E8F0FE;\n",
              "      border: none;\n",
              "      border-radius: 50%;\n",
              "      cursor: pointer;\n",
              "      display: none;\n",
              "      fill: #1967D2;\n",
              "      height: 32px;\n",
              "      padding: 0 0 0 0;\n",
              "      width: 32px;\n",
              "    }\n",
              "\n",
              "    .colab-df-convert:hover {\n",
              "      background-color: #E2EBFA;\n",
              "      box-shadow: 0px 1px 2px rgba(60, 64, 67, 0.3), 0px 1px 3px 1px rgba(60, 64, 67, 0.15);\n",
              "      fill: #174EA6;\n",
              "    }\n",
              "\n",
              "    .colab-df-buttons div {\n",
              "      margin-bottom: 4px;\n",
              "    }\n",
              "\n",
              "    [theme=dark] .colab-df-convert {\n",
              "      background-color: #3B4455;\n",
              "      fill: #D2E3FC;\n",
              "    }\n",
              "\n",
              "    [theme=dark] .colab-df-convert:hover {\n",
              "      background-color: #434B5C;\n",
              "      box-shadow: 0px 1px 3px 1px rgba(0, 0, 0, 0.15);\n",
              "      filter: drop-shadow(0px 1px 2px rgba(0, 0, 0, 0.3));\n",
              "      fill: #FFFFFF;\n",
              "    }\n",
              "  </style>\n",
              "\n",
              "    <script>\n",
              "      const buttonEl =\n",
              "        document.querySelector('#df-35548f16-0a0e-4ade-a41c-22857ef43ce3 button.colab-df-convert');\n",
              "      buttonEl.style.display =\n",
              "        google.colab.kernel.accessAllowed ? 'block' : 'none';\n",
              "\n",
              "      async function convertToInteractive(key) {\n",
              "        const element = document.querySelector('#df-35548f16-0a0e-4ade-a41c-22857ef43ce3');\n",
              "        const dataTable =\n",
              "          await google.colab.kernel.invokeFunction('convertToInteractive',\n",
              "                                                    [key], {});\n",
              "        if (!dataTable) return;\n",
              "\n",
              "        const docLinkHtml = 'Like what you see? Visit the ' +\n",
              "          '<a target=\"_blank\" href=https://colab.research.google.com/notebooks/data_table.ipynb>data table notebook</a>'\n",
              "          + ' to learn more about interactive tables.';\n",
              "        element.innerHTML = '';\n",
              "        dataTable['output_type'] = 'display_data';\n",
              "        await google.colab.output.renderOutput(dataTable, element);\n",
              "        const docLink = document.createElement('div');\n",
              "        docLink.innerHTML = docLinkHtml;\n",
              "        element.appendChild(docLink);\n",
              "      }\n",
              "    </script>\n",
              "  </div>\n",
              "\n",
              "\n",
              "    <div id=\"df-88ffb220-c5d0-4826-9c62-1ffe11ad0337\">\n",
              "      <button class=\"colab-df-quickchart\" onclick=\"quickchart('df-88ffb220-c5d0-4826-9c62-1ffe11ad0337')\"\n",
              "                title=\"Suggest charts\"\n",
              "                style=\"display:none;\">\n",
              "\n",
              "<svg xmlns=\"http://www.w3.org/2000/svg\" height=\"24px\"viewBox=\"0 0 24 24\"\n",
              "     width=\"24px\">\n",
              "    <g>\n",
              "        <path d=\"M19 3H5c-1.1 0-2 .9-2 2v14c0 1.1.9 2 2 2h14c1.1 0 2-.9 2-2V5c0-1.1-.9-2-2-2zM9 17H7v-7h2v7zm4 0h-2V7h2v10zm4 0h-2v-4h2v4z\"/>\n",
              "    </g>\n",
              "</svg>\n",
              "      </button>\n",
              "\n",
              "<style>\n",
              "  .colab-df-quickchart {\n",
              "      --bg-color: #E8F0FE;\n",
              "      --fill-color: #1967D2;\n",
              "      --hover-bg-color: #E2EBFA;\n",
              "      --hover-fill-color: #174EA6;\n",
              "      --disabled-fill-color: #AAA;\n",
              "      --disabled-bg-color: #DDD;\n",
              "  }\n",
              "\n",
              "  [theme=dark] .colab-df-quickchart {\n",
              "      --bg-color: #3B4455;\n",
              "      --fill-color: #D2E3FC;\n",
              "      --hover-bg-color: #434B5C;\n",
              "      --hover-fill-color: #FFFFFF;\n",
              "      --disabled-bg-color: #3B4455;\n",
              "      --disabled-fill-color: #666;\n",
              "  }\n",
              "\n",
              "  .colab-df-quickchart {\n",
              "    background-color: var(--bg-color);\n",
              "    border: none;\n",
              "    border-radius: 50%;\n",
              "    cursor: pointer;\n",
              "    display: none;\n",
              "    fill: var(--fill-color);\n",
              "    height: 32px;\n",
              "    padding: 0;\n",
              "    width: 32px;\n",
              "  }\n",
              "\n",
              "  .colab-df-quickchart:hover {\n",
              "    background-color: var(--hover-bg-color);\n",
              "    box-shadow: 0 1px 2px rgba(60, 64, 67, 0.3), 0 1px 3px 1px rgba(60, 64, 67, 0.15);\n",
              "    fill: var(--button-hover-fill-color);\n",
              "  }\n",
              "\n",
              "  .colab-df-quickchart-complete:disabled,\n",
              "  .colab-df-quickchart-complete:disabled:hover {\n",
              "    background-color: var(--disabled-bg-color);\n",
              "    fill: var(--disabled-fill-color);\n",
              "    box-shadow: none;\n",
              "  }\n",
              "\n",
              "  .colab-df-spinner {\n",
              "    border: 2px solid var(--fill-color);\n",
              "    border-color: transparent;\n",
              "    border-bottom-color: var(--fill-color);\n",
              "    animation:\n",
              "      spin 1s steps(1) infinite;\n",
              "  }\n",
              "\n",
              "  @keyframes spin {\n",
              "    0% {\n",
              "      border-color: transparent;\n",
              "      border-bottom-color: var(--fill-color);\n",
              "      border-left-color: var(--fill-color);\n",
              "    }\n",
              "    20% {\n",
              "      border-color: transparent;\n",
              "      border-left-color: var(--fill-color);\n",
              "      border-top-color: var(--fill-color);\n",
              "    }\n",
              "    30% {\n",
              "      border-color: transparent;\n",
              "      border-left-color: var(--fill-color);\n",
              "      border-top-color: var(--fill-color);\n",
              "      border-right-color: var(--fill-color);\n",
              "    }\n",
              "    40% {\n",
              "      border-color: transparent;\n",
              "      border-right-color: var(--fill-color);\n",
              "      border-top-color: var(--fill-color);\n",
              "    }\n",
              "    60% {\n",
              "      border-color: transparent;\n",
              "      border-right-color: var(--fill-color);\n",
              "    }\n",
              "    80% {\n",
              "      border-color: transparent;\n",
              "      border-right-color: var(--fill-color);\n",
              "      border-bottom-color: var(--fill-color);\n",
              "    }\n",
              "    90% {\n",
              "      border-color: transparent;\n",
              "      border-bottom-color: var(--fill-color);\n",
              "    }\n",
              "  }\n",
              "</style>\n",
              "\n",
              "      <script>\n",
              "        async function quickchart(key) {\n",
              "          const quickchartButtonEl =\n",
              "            document.querySelector('#' + key + ' button');\n",
              "          quickchartButtonEl.disabled = true;  // To prevent multiple clicks.\n",
              "          quickchartButtonEl.classList.add('colab-df-spinner');\n",
              "          try {\n",
              "            const charts = await google.colab.kernel.invokeFunction(\n",
              "                'suggestCharts', [key], {});\n",
              "          } catch (error) {\n",
              "            console.error('Error during call to suggestCharts:', error);\n",
              "          }\n",
              "          quickchartButtonEl.classList.remove('colab-df-spinner');\n",
              "          quickchartButtonEl.classList.add('colab-df-quickchart-complete');\n",
              "        }\n",
              "        (() => {\n",
              "          let quickchartButtonEl =\n",
              "            document.querySelector('#df-88ffb220-c5d0-4826-9c62-1ffe11ad0337 button');\n",
              "          quickchartButtonEl.style.display =\n",
              "            google.colab.kernel.accessAllowed ? 'block' : 'none';\n",
              "        })();\n",
              "      </script>\n",
              "    </div>\n",
              "\n",
              "    </div>\n",
              "  </div>\n"
            ],
            "application/vnd.google.colaboratory.intrinsic+json": {
              "type": "dataframe",
              "summary": "{\n  \"name\": \"df\",\n  \"rows\": 3,\n  \"fields\": [\n    {\n      \"column\": \"Maths\",\n      \"properties\": {\n        \"dtype\": \"number\",\n        \"std\": 9,\n        \"min\": 7,\n        \"max\": 24,\n        \"num_unique_values\": 3,\n        \"samples\": [\n          24,\n          7,\n          9\n        ],\n        \"semantic_type\": \"\",\n        \"description\": \"\"\n      }\n    },\n    {\n      \"column\": \"English\",\n      \"properties\": {\n        \"dtype\": \"number\",\n        \"std\": 8,\n        \"min\": 4,\n        \"max\": 20,\n        \"num_unique_values\": 3,\n        \"samples\": [\n          20,\n          4,\n          10\n        ],\n        \"semantic_type\": \"\",\n        \"description\": \"\"\n      }\n    },\n    {\n      \"column\": \"Science\",\n      \"properties\": {\n        \"dtype\": \"number\",\n        \"std\": 8,\n        \"min\": 7,\n        \"max\": 23,\n        \"num_unique_values\": 3,\n        \"samples\": [\n          23,\n          7,\n          8\n        ],\n        \"semantic_type\": \"\",\n        \"description\": \"\"\n      }\n    },\n    {\n      \"column\": \"History\",\n      \"properties\": {\n        \"dtype\": \"number\",\n        \"std\": 7,\n        \"min\": 5,\n        \"max\": 20,\n        \"num_unique_values\": 3,\n        \"samples\": [\n          20,\n          5,\n          9\n        ],\n        \"semantic_type\": \"\",\n        \"description\": \"\"\n      }\n    }\n  ]\n}"
            }
          },
          "metadata": {},
          "execution_count": 27
        }
      ]
    },
    {
      "cell_type": "markdown",
      "source": [
        "#Grouping in Pandas\n",
        "##Grouping in Pandas means organizing your data into groups based on some columns. Once grouped you can perform actions like finding the total, average, count or even pick the first row from each group. This method follows a split-apply-combine process:\n",
        "\n",
        "##Split the data into groups\n",
        "##Apply some calculation like sum, average etc.\n",
        "##Combine the results into a new table."
      ],
      "metadata": {
        "id": "RGwVEtjdTAAT"
      }
    },
    {
      "cell_type": "markdown",
      "source": [
        "##Let’s understand grouping in Pandas using a small bakery order dataset as an example."
      ],
      "metadata": {
        "id": "JbLdDZaqTHX6"
      }
    },
    {
      "cell_type": "code",
      "source": [
        "import pandas as pd\n",
        "\n",
        "data = {\n",
        "    'Item': ['Cake', 'Cake', 'Bread', 'Pastry', 'Cake'],\n",
        "    'Flavor': ['Chocolate', 'Vanilla', 'Whole Wheat', 'Strawberry', 'Chocolate'],\n",
        "    'Price': [250, 220, 80, 120, 250]\n",
        "}\n",
        "\n",
        "df = pd.DataFrame(data)\n",
        "print(df)"
      ],
      "metadata": {
        "colab": {
          "base_uri": "https://localhost:8080/"
        },
        "id": "tbaauqiKTKNS",
        "outputId": "a2755790-92a9-4618-98b6-672f9387fb82"
      },
      "execution_count": null,
      "outputs": [
        {
          "output_type": "stream",
          "name": "stdout",
          "text": [
            "     Item       Flavor  Price\n",
            "0    Cake    Chocolate    250\n",
            "1    Cake      Vanilla    220\n",
            "2   Bread  Whole Wheat     80\n",
            "3  Pastry   Strawberry    120\n",
            "4    Cake    Chocolate    250\n"
          ]
        }
      ]
    },
    {
      "cell_type": "code",
      "source": [],
      "metadata": {
        "id": "bvf6IXs-TQYC"
      },
      "execution_count": null,
      "outputs": []
    },
    {
      "cell_type": "markdown",
      "source": [
        "#1. Grouping Data by One Column Using groupby()\n",
        "##Let’s say we want to group the orders based on the Item column"
      ],
      "metadata": {
        "id": "X0se5ynHTNMb"
      }
    },
    {
      "cell_type": "code",
      "source": [
        "grouped = df.groupby('Item')\n",
        "print(grouped)"
      ],
      "metadata": {
        "colab": {
          "base_uri": "https://localhost:8080/"
        },
        "id": "6E5NJY2wTQ_G",
        "outputId": "6d80c72f-9f7d-4fa0-991f-36dadf1e7a40"
      },
      "execution_count": null,
      "outputs": [
        {
          "output_type": "stream",
          "name": "stdout",
          "text": [
            "<pandas.core.groupby.generic.DataFrameGroupBy object at 0x7dc6962db470>\n"
          ]
        }
      ]
    },
    {
      "cell_type": "markdown",
      "source": [
        "##This doesn't show the result directly it just creates a grouped object. To actually see the data we need to apply a method like .sum(), .mean() or first(). Let’s find the total price of each item sold:"
      ],
      "metadata": {
        "id": "Y9zGDIpfTVg-"
      }
    },
    {
      "cell_type": "code",
      "source": [
        "print(df.groupby('Item')['Price'].sum())"
      ],
      "metadata": {
        "colab": {
          "base_uri": "https://localhost:8080/"
        },
        "id": "iCuPwrMFTVC8",
        "outputId": "507a94db-e2ff-43ff-c148-8eee7c6634a8"
      },
      "execution_count": null,
      "outputs": [
        {
          "output_type": "stream",
          "name": "stdout",
          "text": [
            "Item\n",
            "Bread      80\n",
            "Cake      720\n",
            "Pastry    120\n",
            "Name: Price, dtype: int64\n"
          ]
        }
      ]
    },
    {
      "cell_type": "markdown",
      "source": [
        "##The above output shows the total earnings from each item.\n",
        "\n",
        "#2. Grouping by Multiple Columns"
      ],
      "metadata": {
        "id": "uqb6g_SWTcWO"
      }
    },
    {
      "cell_type": "markdown",
      "source": [
        "##Now let’s group by Item and Flavor to see how each flavored item sold."
      ],
      "metadata": {
        "id": "9onJaaUcTglN"
      }
    },
    {
      "cell_type": "code",
      "source": [
        "print(df.groupby(['Item', 'Flavor'])['Price'].sum())"
      ],
      "metadata": {
        "colab": {
          "base_uri": "https://localhost:8080/"
        },
        "id": "0HghWZ7aTjXG",
        "outputId": "31d128e3-9be9-4e1b-92cc-b7097d9b0967"
      },
      "execution_count": null,
      "outputs": [
        {
          "output_type": "stream",
          "name": "stdout",
          "text": [
            "Item    Flavor     \n",
            "Bread   Whole Wheat     80\n",
            "Cake    Chocolate      500\n",
            "        Vanilla        220\n",
            "Pastry  Strawberry     120\n",
            "Name: Price, dtype: int64\n"
          ]
        }
      ]
    },
    {
      "cell_type": "markdown",
      "source": [
        "##The above output show Chocolate Cakes earned ₹500 and Vanilla Cake earned ₹220 and more."
      ],
      "metadata": {
        "id": "g7LG4896Tmi7"
      }
    },
    {
      "cell_type": "markdown",
      "source": [
        "#How to Sort Pandas DataFrame?"
      ],
      "metadata": {
        "id": "6Mqz1pUMUdKl"
      }
    },
    {
      "cell_type": "markdown",
      "source": [
        "##Sorting data is an important step in data analysis as it helps to organize and structure the information for easier interpretation and decision-making. Whether we're working with small datasets or large ones, sorting allows us to arrange data in a meaningful way.\n",
        "\n",
        "##Pandas provides the sort_values() method which allows us to sort a DataFrame by one or more columns in either ascending or descending order."
      ],
      "metadata": {
        "id": "-hAAFtNrUiSj"
      }
    },
    {
      "cell_type": "markdown",
      "source": [
        "#1. Sorting a DataFrame by a Single Column\n",
        "##The sort_values() method in Pandas makes it easy to sort our DataFrame by a single column. By default, it sorts in ascending order but we can customize this."
      ],
      "metadata": {
        "id": "2XGIbfvmUnaD"
      }
    },
    {
      "cell_type": "code",
      "source": [
        "import pandas as pd\n",
        "data = {'Name': ['Alice', 'Bob', 'Charlie', 'David'],\n",
        "        'Age': [25, 30, 35, 40],\n",
        "        'Score': [85, 90, 95, 80]}\n",
        "df = pd.DataFrame(data)\n",
        "\n",
        "sorted_df = df.sort_values(by='Age')\n",
        "print(sorted_df)"
      ],
      "metadata": {
        "colab": {
          "base_uri": "https://localhost:8080/"
        },
        "id": "Qxn1hRmKUhWT",
        "outputId": "ea1be951-0c25-4ac0-d87f-67f0e66a5f16"
      },
      "execution_count": null,
      "outputs": [
        {
          "output_type": "stream",
          "name": "stdout",
          "text": [
            "      Name  Age  Score\n",
            "0    Alice   25     85\n",
            "1      Bob   30     90\n",
            "2  Charlie   35     95\n",
            "3    David   40     80\n"
          ]
        }
      ]
    },
    {
      "cell_type": "markdown",
      "source": [
        "#In this example, the DataFrame is sorted by the Age column in ascending order but here it is already sorted. If we need the sorting to be in descending order simply pass ascending=False:"
      ],
      "metadata": {
        "id": "NR4pkS6sU_x7"
      }
    },
    {
      "cell_type": "code",
      "source": [
        "import pandas as pd\n",
        "data = {'Name': ['Alice', 'Bob', 'Charlie', 'David'],'Age': [25, 30, 35, 40],'Score': [85, 90, 95, 80]}\n",
        "df = pd.DataFrame(data)\n",
        "\n",
        "sorted_df = df.sort_values(by='Age',ascending=False)\n",
        "print(sorted_df)"
      ],
      "metadata": {
        "colab": {
          "base_uri": "https://localhost:8080/"
        },
        "id": "R1m06obRVCZi",
        "outputId": "03f3032b-a1fe-42d7-ecc3-4c53735e8f59"
      },
      "execution_count": null,
      "outputs": [
        {
          "output_type": "stream",
          "name": "stdout",
          "text": [
            "      Name  Age  Score\n",
            "3    David   40     80\n",
            "2  Charlie   35     95\n",
            "1      Bob   30     90\n",
            "0    Alice   25     85\n"
          ]
        }
      ]
    },
    {
      "cell_type": "markdown",
      "source": [
        "#Parameters of sort_values():\n",
        "##by: Specifies the column to sort by.\n",
        "##ascending: A boolean (True for ascending, False for descending).\n",
        "##inplace: If True, the original DataFrame is modified otherwise a new sorted DataFrame is returned.\n",
        "##na_position: Controls where NaN values are placed. Use 'first' to put NaNs at the top or 'last' (default) to place them at the end.\n",
        "##ignore_index: If True, resets the index after sorting."
      ],
      "metadata": {
        "id": "SSRSLnj4VGU7"
      }
    },
    {
      "cell_type": "markdown",
      "source": [
        "#2. Sorting a DataFrame by Multiple Columns\n",
        "##When sorting by multiple columns, Pandas allows us to specify a list of column names. This is useful when we want to sort by one column like age and if there are ties, sort by another column like salary."
      ],
      "metadata": {
        "id": "r2T_Ij0JVL-U"
      }
    },
    {
      "cell_type": "code",
      "source": [
        "import pandas as pd\n",
        "data = {'Name': ['Alice', 'Bob', 'Charlie', 'David'],\n",
        "        'Age': [25, 30, 35, 40],\n",
        "        'Score': [85, 90, 95, 80]}\n",
        "df = pd.DataFrame(data)\n",
        "\n",
        "sorted_df = df.sort_values(by=['Age', 'Score'])\n",
        "print(sorted_df)"
      ],
      "metadata": {
        "colab": {
          "base_uri": "https://localhost:8080/"
        },
        "id": "5LFXULdCVPFp",
        "outputId": "94aea30b-78e0-4378-aa2d-c570f14c90a5"
      },
      "execution_count": null,
      "outputs": [
        {
          "output_type": "stream",
          "name": "stdout",
          "text": [
            "      Name  Age  Score\n",
            "0    Alice   25     85\n",
            "1      Bob   30     90\n",
            "2  Charlie   35     95\n",
            "3    David   40     80\n"
          ]
        }
      ]
    },
    {
      "cell_type": "markdown",
      "source": [
        "##This will sort first by Age and if multiple rows have the same Age, it will then sort those rows by Salary."
      ],
      "metadata": {
        "id": "AgqQRPNuVSp7"
      }
    },
    {
      "cell_type": "markdown",
      "source": [
        "#3. Sorting DataFrame with Missing Values\n",
        "##In real-world datasets, missing values (NaNs) are common. By default sort_values() places NaN values at the end. If we need them at the top, we can use the na_position parameter."
      ],
      "metadata": {
        "id": "zQQ9l_K1VY_k"
      }
    },
    {
      "cell_type": "code",
      "source": [
        "import pandas as pd\n",
        "data_with_nan = {\"Name\": [\"Alice\", \"Bob\", \"Charlie\", \"David\"],\"Age\": [28, 22, None, 22]}\n",
        "df_nan = pd.DataFrame(data_with_nan)\n",
        "\n",
        "sorted_df = df_nan.sort_values(by=\"Age\", na_position=\"first\")\n",
        "print(sorted_df)"
      ],
      "metadata": {
        "colab": {
          "base_uri": "https://localhost:8080/"
        },
        "id": "I5r_1M6oVYQD",
        "outputId": "9078a908-4006-4da4-c4cb-ebfdbffaf6a1"
      },
      "execution_count": null,
      "outputs": [
        {
          "output_type": "stream",
          "name": "stdout",
          "text": [
            "      Name   Age\n",
            "2  Charlie   NaN\n",
            "1      Bob  22.0\n",
            "3    David  22.0\n",
            "0    Alice  28.0\n"
          ]
        }
      ]
    },
    {
      "cell_type": "markdown",
      "source": [
        "##This will ensure that any rows with missing values in the Age column are placed at the top of the DataFrame."
      ],
      "metadata": {
        "id": "eOPpCxBZVgkc"
      }
    },
    {
      "cell_type": "markdown",
      "source": [
        "#To use SQL in Google Colab, there are two approaches: using Python libraries like SQLite3 or using SQL magic commands. The first approach involves importing SQLite3 libraries, creating a connection to a database, and executing SQL queries using pandas’ read_sql_query() function.\n",
        "\n",
        "#The second approach involves using SQL magic commands, which are similar to Jupyter Notebook’s magic commands. To use SQL magic commands, you need to install the ipython-sql library and load the SQL extension using the %load_ext sql command. Once the extension is loaded, you can connect to a database using the %sql command and execute SQL queries using the %%sql cell magic command."
      ],
      "metadata": {
        "id": "3IhE6lZnXv_A"
      }
    },
    {
      "cell_type": "markdown",
      "source": [
        "#Method 1: Using SQLite Database\n",
        "##SQLite is a serverless, self-contained, and zero-configuration database engine that requires no additional installation steps. Python comes with built-in support for SQLite.\n",
        "\n",
        "##Let’s begin by importing the SQLite3 module and establishing a connection to the database in your Google Colab notebook. We’ll use an in-memory database for this example, which is denoted by :memory\n",
        "\n",
        "##SQLite in-memory databases are stored in memory rather than on a disc.\n",
        "\n",
        "\n"
      ],
      "metadata": {
        "id": "shXZluo-X1uZ"
      }
    },
    {
      "cell_type": "code",
      "source": [
        "# Import library\n",
        "import sqlite3\n",
        "\n",
        "# Connect to an SQLite database; use ':memory:' for an in-memory database\n",
        "conn = sqlite3.connect(':memory:')"
      ],
      "metadata": {
        "id": "5K2a_1rlWZBi"
      },
      "execution_count": null,
      "outputs": []
    },
    {
      "cell_type": "code",
      "source": [
        "# Execute a SQL command to create a new table\n",
        "c = conn.cursor()\n",
        "c.execute('''\n",
        "          CREATE TABLE Students\n",
        "          (name text, age real, weight real)\n",
        "          ''')"
      ],
      "metadata": {
        "colab": {
          "base_uri": "https://localhost:8080/"
        },
        "id": "2crm9Bd0WcmC",
        "outputId": "035ec738-99a7-4234-e098-089eda614715"
      },
      "execution_count": null,
      "outputs": [
        {
          "output_type": "execute_result",
          "data": {
            "text/plain": [
              "<sqlite3.Cursor at 0x7dc695f96b40>"
            ]
          },
          "metadata": {},
          "execution_count": 37
        }
      ]
    },
    {
      "cell_type": "code",
      "source": [
        "# Execute a SQL command to insert data into the table\n",
        "c.execute(\"INSERT INTO Students VALUES ('John',28,70)\")\n",
        "\n",
        "# Commit the transaction to save changes to the database\n",
        "conn.commit()"
      ],
      "metadata": {
        "id": "tRlyk-NyWfhL"
      },
      "execution_count": null,
      "outputs": []
    },
    {
      "cell_type": "code",
      "source": [
        "# Execute a SQL SELECT statement to query the database\n",
        "c.execute(\"SELECT * FROM Students\")\n",
        "\n",
        "# Fetch all rows from the result of the query\n",
        "print(c.fetchall())"
      ],
      "metadata": {
        "colab": {
          "base_uri": "https://localhost:8080/"
        },
        "id": "ORLwTu0fWiLI",
        "outputId": "94604ebf-be22-480b-97c9-8a9fc996c0cc"
      },
      "execution_count": null,
      "outputs": [
        {
          "output_type": "stream",
          "name": "stdout",
          "text": [
            "[('John', 28.0, 70.0)]\n"
          ]
        }
      ]
    },
    {
      "cell_type": "markdown",
      "source": [],
      "metadata": {
        "id": "c-qqvnIXXZ5j"
      }
    },
    {
      "cell_type": "markdown",
      "source": [
        "#Method 2: Using Magic Commands\n",
        "##Magic commands in IPython are a useful set of commands that help solve common problems while working with data. One such command is the SQL magic command that allows writing SQL queries within a notebook.\n",
        "\n",
        "##First, we need to install the ipython-sql extension. This can be done directly in a Colab cell:"
      ],
      "metadata": {
        "id": "jsgwgxJxX7lh"
      }
    },
    {
      "cell_type": "code",
      "source": [
        "!pip install ipython-sql"
      ],
      "metadata": {
        "colab": {
          "base_uri": "https://localhost:8080/"
        },
        "id": "yiVg9QLIXaaa",
        "outputId": "c7a4617e-2d35-4828-f252-15bc2f36a0c5"
      },
      "execution_count": null,
      "outputs": [
        {
          "output_type": "stream",
          "name": "stdout",
          "text": [
            "Requirement already satisfied: ipython-sql in /usr/local/lib/python3.12/dist-packages (0.5.0)\n",
            "Requirement already satisfied: prettytable in /usr/local/lib/python3.12/dist-packages (from ipython-sql) (3.16.0)\n",
            "Requirement already satisfied: ipython in /usr/local/lib/python3.12/dist-packages (from ipython-sql) (7.34.0)\n",
            "Requirement already satisfied: sqlalchemy>=2.0 in /usr/local/lib/python3.12/dist-packages (from ipython-sql) (2.0.43)\n",
            "Requirement already satisfied: sqlparse in /usr/local/lib/python3.12/dist-packages (from ipython-sql) (0.5.3)\n",
            "Requirement already satisfied: six in /usr/local/lib/python3.12/dist-packages (from ipython-sql) (1.17.0)\n",
            "Requirement already satisfied: ipython-genutils in /usr/local/lib/python3.12/dist-packages (from ipython-sql) (0.2.0)\n",
            "Requirement already satisfied: greenlet>=1 in /usr/local/lib/python3.12/dist-packages (from sqlalchemy>=2.0->ipython-sql) (3.2.4)\n",
            "Requirement already satisfied: typing-extensions>=4.6.0 in /usr/local/lib/python3.12/dist-packages (from sqlalchemy>=2.0->ipython-sql) (4.15.0)\n",
            "Requirement already satisfied: setuptools>=18.5 in /usr/local/lib/python3.12/dist-packages (from ipython->ipython-sql) (75.2.0)\n",
            "Collecting jedi>=0.16 (from ipython->ipython-sql)\n",
            "  Downloading jedi-0.19.2-py2.py3-none-any.whl.metadata (22 kB)\n",
            "Requirement already satisfied: decorator in /usr/local/lib/python3.12/dist-packages (from ipython->ipython-sql) (4.4.2)\n",
            "Requirement already satisfied: pickleshare in /usr/local/lib/python3.12/dist-packages (from ipython->ipython-sql) (0.7.5)\n",
            "Requirement already satisfied: traitlets>=4.2 in /usr/local/lib/python3.12/dist-packages (from ipython->ipython-sql) (5.7.1)\n",
            "Requirement already satisfied: prompt-toolkit!=3.0.0,!=3.0.1,<3.1.0,>=2.0.0 in /usr/local/lib/python3.12/dist-packages (from ipython->ipython-sql) (3.0.52)\n",
            "Requirement already satisfied: pygments in /usr/local/lib/python3.12/dist-packages (from ipython->ipython-sql) (2.19.2)\n",
            "Requirement already satisfied: backcall in /usr/local/lib/python3.12/dist-packages (from ipython->ipython-sql) (0.2.0)\n",
            "Requirement already satisfied: matplotlib-inline in /usr/local/lib/python3.12/dist-packages (from ipython->ipython-sql) (0.1.7)\n",
            "Requirement already satisfied: pexpect>4.3 in /usr/local/lib/python3.12/dist-packages (from ipython->ipython-sql) (4.9.0)\n",
            "Requirement already satisfied: wcwidth in /usr/local/lib/python3.12/dist-packages (from prettytable->ipython-sql) (0.2.13)\n",
            "Requirement already satisfied: parso<0.9.0,>=0.8.4 in /usr/local/lib/python3.12/dist-packages (from jedi>=0.16->ipython->ipython-sql) (0.8.5)\n",
            "Requirement already satisfied: ptyprocess>=0.5 in /usr/local/lib/python3.12/dist-packages (from pexpect>4.3->ipython->ipython-sql) (0.7.0)\n",
            "Downloading jedi-0.19.2-py2.py3-none-any.whl (1.6 MB)\n",
            "\u001b[2K   \u001b[90m━━━━━━━━━━━━━━━━━━━━━━━━━━━━━━━━━━━━━━━━\u001b[0m \u001b[32m1.6/1.6 MB\u001b[0m \u001b[31m16.9 MB/s\u001b[0m eta \u001b[36m0:00:00\u001b[0m\n",
            "\u001b[?25hInstalling collected packages: jedi\n",
            "Successfully installed jedi-0.19.2\n"
          ]
        }
      ]
    },
    {
      "cell_type": "code",
      "source": [
        "# Load the SQL extension\n",
        "%load_ext sql\n",
        "\n",
        "# Create a SQLite database\n",
        "%sql sqlite://\n"
      ],
      "metadata": {
        "id": "hPHQBx9JXduM"
      },
      "execution_count": null,
      "outputs": []
    },
    {
      "cell_type": "code",
      "source": [
        "# Execute SQL commands to create a table, insert data, and run a query\n",
        "%%sql\n",
        "CREATE TABLE test_table(name, age);\n",
        "INSERT INTO test_table VALUES('Alice', 24);\n",
        "\n",
        "\n"
      ],
      "metadata": {
        "colab": {
          "base_uri": "https://localhost:8080/"
        },
        "id": "YqwdepHLXg-i",
        "outputId": "40dbe9da-dbe5-4d13-8d4e-04d789bcf191"
      },
      "execution_count": null,
      "outputs": [
        {
          "output_type": "stream",
          "name": "stdout",
          "text": [
            " * sqlite://\n",
            "(sqlite3.OperationalError) table test_table already exists\n",
            "[SQL: CREATE TABLE test_table(name, age);]\n",
            "(Background on this error at: https://sqlalche.me/e/20/e3q8)\n"
          ]
        }
      ]
    },
    {
      "cell_type": "code",
      "source": [
        "%sql\n",
        "SELECT * FROM test_table;"
      ],
      "metadata": {
        "colab": {
          "base_uri": "https://localhost:8080/",
          "height": 106
        },
        "id": "7bt43xV6YHrM",
        "outputId": "956f8f71-12bd-464d-ae73-cf81b0d799f9"
      },
      "execution_count": null,
      "outputs": [
        {
          "output_type": "error",
          "ename": "SyntaxError",
          "evalue": "invalid syntax (ipython-input-3683078708.py, line 2)",
          "traceback": [
            "\u001b[0;36m  File \u001b[0;32m\"/tmp/ipython-input-3683078708.py\"\u001b[0;36m, line \u001b[0;32m2\u001b[0m\n\u001b[0;31m    SELECT * FROM test_table;\u001b[0m\n\u001b[0m                  ^\u001b[0m\n\u001b[0;31mSyntaxError\u001b[0m\u001b[0;31m:\u001b[0m invalid syntax\n"
          ]
        }
      ]
    }
  ]
}